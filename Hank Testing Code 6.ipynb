{
 "cells": [
  {
   "cell_type": "code",
   "execution_count": 1,
   "metadata": {
    "collapsed": false
   },
   "outputs": [
    {
     "ename": "NameError",
     "evalue": "name 'pd' is not defined",
     "output_type": "error",
     "traceback": [
      "\u001b[0;31m---------------------------------------------------------------------------\u001b[0m",
      "\u001b[0;31mNameError\u001b[0m                                 Traceback (most recent call last)",
      "\u001b[0;32m<ipython-input-1-9099be8e315e>\u001b[0m in \u001b[0;36m<module>\u001b[0;34m()\u001b[0m\n\u001b[1;32m      4\u001b[0m \u001b[0mget_ipython\u001b[0m\u001b[1;33m(\u001b[0m\u001b[1;33m)\u001b[0m\u001b[1;33m.\u001b[0m\u001b[0mmagic\u001b[0m\u001b[1;33m(\u001b[0m\u001b[1;34m'matplotlib inline'\u001b[0m\u001b[1;33m)\u001b[0m\u001b[1;33m\u001b[0m\u001b[0m\n\u001b[1;32m      5\u001b[0m \u001b[1;33m\u001b[0m\u001b[0m\n\u001b[0;32m----> 6\u001b[0;31m \u001b[0mexome\u001b[0m \u001b[1;33m=\u001b[0m \u001b[0mpd\u001b[0m\u001b[1;33m.\u001b[0m\u001b[0mread_excel\u001b[0m\u001b[1;33m(\u001b[0m\u001b[1;34m\"HC3_js_exomes_2_MG_170307.xlsx\"\u001b[0m\u001b[1;33m)\u001b[0m\u001b[1;33m\u001b[0m\u001b[0m\n\u001b[0m\u001b[1;32m      7\u001b[0m \u001b[0mexomeFiltered\u001b[0m \u001b[1;33m=\u001b[0m \u001b[0mexome\u001b[0m\u001b[1;33m.\u001b[0m\u001b[0mloc\u001b[0m\u001b[1;33m[\u001b[0m\u001b[1;33m:\u001b[0m\u001b[1;33m,\u001b[0m \u001b[1;33m[\u001b[0m\u001b[1;34m'GERP'\u001b[0m\u001b[1;33m,\u001b[0m\u001b[1;34m'CADD_score'\u001b[0m\u001b[1;33m,\u001b[0m \u001b[1;34m'Dist2Splice'\u001b[0m\u001b[1;33m,\u001b[0m\u001b[1;34m'AB'\u001b[0m\u001b[1;33m,\u001b[0m \u001b[1;34m'P1_AltFreq'\u001b[0m\u001b[1;33m,\u001b[0m \u001b[1;34m'P2_AltFreq'\u001b[0m \u001b[1;33m,\u001b[0m\u001b[1;34m'localization'\u001b[0m\u001b[1;33m,\u001b[0m \u001b[1;34m'js_cause'\u001b[0m\u001b[1;33m]\u001b[0m\u001b[1;33m]\u001b[0m\u001b[1;33m\u001b[0m\u001b[0m\n\u001b[1;32m      8\u001b[0m \u001b[0mexomeLoc\u001b[0m \u001b[1;33m=\u001b[0m \u001b[0mexomeFiltered\u001b[0m\u001b[1;33m.\u001b[0m\u001b[0mloc\u001b[0m\u001b[1;33m[\u001b[0m\u001b[1;33m:\u001b[0m\u001b[1;33m,\u001b[0m\u001b[1;33m[\u001b[0m\u001b[1;34m'GERP'\u001b[0m\u001b[1;33m,\u001b[0m\u001b[1;34m'CADD_score'\u001b[0m\u001b[1;33m,\u001b[0m \u001b[1;34m'Dist2Splice'\u001b[0m\u001b[1;33m,\u001b[0m\u001b[1;34m'AB'\u001b[0m\u001b[1;33m,\u001b[0m \u001b[1;34m'P1_AltFreq'\u001b[0m\u001b[1;33m,\u001b[0m \u001b[1;34m'P2_AltFreq'\u001b[0m \u001b[1;33m,\u001b[0m \u001b[1;34m'localization'\u001b[0m\u001b[1;33m]\u001b[0m\u001b[1;33m]\u001b[0m\u001b[1;33m\u001b[0m\u001b[0m\n",
      "\u001b[0;31mNameError\u001b[0m: name 'pd' is not defined"
     ]
    }
   ],
   "source": [
    "import numpy as np\n",
    "import scipy.io as sio\n",
    "import matplotlib.pyplot as plt\n",
    "%matplotlib inline\n",
    "\n",
    "exome = pd.read_excel(\"HC3_js_exomes_2_MG_170307.xlsx\")\n",
    "exomeFiltered = exome.loc[:, ['GERP','CADD_score', 'Dist2Splice','AB', 'P1_AltFreq', 'P2_AltFreq' ,'localization', 'js_cause']]\n",
    "exomeLoc = exomeFiltered.loc[:,['GERP','CADD_score', 'Dist2Splice','AB', 'P1_AltFreq', 'P2_AltFreq' , 'localization']]\n",
    "exomeJS = exomeFiltered.loc[:,['GERP','CADD_score', 'Dist2Splice','AB', 'P1_AltFreq', 'P2_AltFreq' , 'js_cause']]\n",
    "exomeTest = exomeFiltered.loc[:,['GERP','CADD_score', 'Dist2Splice','AB', 'P1_AltFreq', 'P2_AltFreq' ]]\n",
    "\n",
    "genes = exomeTest\n",
    "cancer_types = exomeJS['js_cause']"
   ]
  },
  {
   "cell_type": "code",
   "execution_count": null,
   "metadata": {
    "collapsed": true
   },
   "outputs": [],
   "source": [
    "def test_train_id(N, test_frac):\n",
    "    ntrain = np.floor(N * (1 - test_frac)).astype(int)\n",
    "    randperm = np.random.permutation(N)\n",
    "    train = randperm[:ntrain]\n",
    "    test = randperm[(ntrain-N):]\n",
    "    return train, test\n",
    "\n",
    "def cross_val_class_accuracy(model, X, y, r, test_frac, reps):\n",
    "    genes_pca = PCA()\n",
    "    \n",
    "    score = np.array([])\n",
    "    for i in range(reps):\n",
    "        train, test = test_train_id(y.size, test_frac)\n",
    "        y_train = y[train]\n",
    "        y_test = y[test]\n",
    "        \n",
    "        X_train = genes_pca.fit_transform(X[train, :])[:, :r]\n",
    "        X_test = genes_pca.transform(X[test, :])[:, :r]\n",
    "        \n",
    "        model.fit(X_train, y_train)\n",
    "        \n",
    "        pred = model.predict(X_test)\n",
    "        this_score = sum(pred == y_test) / len(y_test)\n",
    "        \n",
    "        score = np.append(score, this_score)\n",
    "    return score\n",
    "\n"
   ]
  },
  {
   "cell_type": "code",
   "execution_count": null,
   "metadata": {
    "collapsed": true
   },
   "outputs": [],
   "source": [
    "from sklearn.discriminant_analysis import LinearDiscriminantAnalysis\n",
    "\n",
    "\n",
    "score = cross_val_class_accuracy(LinearDiscriminantAnalysis(), genes, \n",
    "                                cancer_types, 5, 0.2, 200)\n",
    "print(score.mean())"
   ]
  },
  {
   "cell_type": "code",
   "execution_count": 2,
   "metadata": {
    "collapsed": false
   },
   "outputs": [
    {
     "ename": "NameError",
     "evalue": "name 'cross_val_class_accuracy' is not defined",
     "output_type": "error",
     "traceback": [
      "\u001b[0;31m---------------------------------------------------------------------------\u001b[0m",
      "\u001b[0;31mNameError\u001b[0m                                 Traceback (most recent call last)",
      "\u001b[0;32m<ipython-input-2-fe3edcf864f2>\u001b[0m in \u001b[0;36m<module>\u001b[0;34m()\u001b[0m\n\u001b[1;32m      7\u001b[0m \u001b[0mreps\u001b[0m \u001b[1;33m=\u001b[0m \u001b[1;36m200\u001b[0m\u001b[1;33m\u001b[0m\u001b[0m\n\u001b[1;32m      8\u001b[0m \u001b[1;33m\u001b[0m\u001b[0m\n\u001b[0;32m----> 9\u001b[0;31m lda_r5_scores = cross_val_class_accuracy(LinearDiscriminantAnalysis(), \n\u001b[0m\u001b[1;32m     10\u001b[0m                                           \u001b[0mgenes\u001b[0m\u001b[1;33m,\u001b[0m \u001b[0mcancer_types\u001b[0m\u001b[1;33m,\u001b[0m \u001b[1;36m5\u001b[0m\u001b[1;33m,\u001b[0m\u001b[1;33m\u001b[0m\u001b[0m\n\u001b[1;32m     11\u001b[0m                                           testfrac, reps)\n",
      "\u001b[0;31mNameError\u001b[0m: name 'cross_val_class_accuracy' is not defined"
     ]
    }
   ],
   "source": [
    "from sklearn.discriminant_analysis import LinearDiscriminantAnalysis\n",
    "from sklearn.neighbors import KNeighborsClassifier\n",
    "from sklearn import svm\n",
    "from sklearn.tree import DecisionTreeClassifier\n",
    "\n",
    "testfrac = 0.2\n",
    "reps = 200\n",
    "\n",
    "lda_r5_scores = cross_val_class_accuracy(LinearDiscriminantAnalysis(), \n",
    "                                          genes, cancer_types, 5,\n",
    "                                          testfrac, reps)\n",
    "lda_r20_scores = cross_val_class_accuracy(LinearDiscriminantAnalysis(), \n",
    "                                          genes, cancer_types, 20,\n",
    "                                          testfrac, reps)\n",
    "knn2_scores = cross_val_class_accuracy(KNeighborsClassifier(n_neighbors=2),\n",
    "                                       genes, cancer_types, 20,\n",
    "                                       testfrac, reps)\n",
    "knn10_scores = cross_val_class_accuracy(KNeighborsClassifier(n_neighbors=10),\n",
    "                                       genes, cancer_types, 20,\n",
    "                                        testfrac, reps)\n",
    "svm_scores = cross_val_class_accuracy(svm.SVC(kernel='linear'),\n",
    "                                      genes, cancer_types, 20, \n",
    "                                      testfrac, reps)\n",
    "tree_scores = cross_val_class_accuracy(DecisionTreeClassifier(max_depth=3),\n",
    "                                       genes, cancer_types, 20,\n",
    "                                       testfrac, reps)\n"
   ]
  },
  {
   "cell_type": "code",
   "execution_count": null,
   "metadata": {
    "collapsed": true
   },
   "outputs": [],
   "source": [
    "classifiers = ('lda_r5', 'lda_r20', 'knn2', 'knn10', 'svm', 'tree')\n",
    "scores = [lda_r5_scores.mean(), lda_r20_scores.mean(), \n",
    "          knn2_scores.mean(), knn10_scores.mean(),\n",
    "         svm_scores.mean(), tree_scores.mean()]\n",
    "scores_err = [lda_r5_scores.std(), lda_r20_scores.std(), \n",
    "          knn2_scores.std(), knn10_scores.std(),\n",
    "         svm_scores.std(), tree_scores.std()]\n",
    "\n",
    "\n",
    "plt.bar(range(len(classifiers)), scores, \n",
    "        yerr=scores_err,\n",
    "        align='center', alpha=0.4,)\n",
    "plt.xticks(range(len(classifiers)), classifiers)\n",
    "plt.ylabel('Cross-validated accuracy')\n",
    "plt.xlabel('Classification Algorithm')"
   ]
  },
  {
   "cell_type": "code",
   "execution_count": null,
   "metadata": {
    "collapsed": true
   },
   "outputs": [],
   "source": []
  }
 ],
 "metadata": {
  "anaconda-cloud": {},
  "kernelspec": {
   "display_name": "Python [default]",
   "language": "python",
   "name": "python3"
  },
  "language_info": {
   "codemirror_mode": {
    "name": "ipython",
    "version": 3
   },
   "file_extension": ".py",
   "mimetype": "text/x-python",
   "name": "python",
   "nbconvert_exporter": "python",
   "pygments_lexer": "ipython3",
   "version": "3.5.2"
  }
 },
 "nbformat": 4,
 "nbformat_minor": 1
}
