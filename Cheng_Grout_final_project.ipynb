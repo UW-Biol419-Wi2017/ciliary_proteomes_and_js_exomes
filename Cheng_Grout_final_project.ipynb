{
 "cells": [
  {
   "cell_type": "code",
   "execution_count": 1,
   "metadata": {
    "collapsed": true
   },
   "outputs": [],
   "source": [
    "# preliminaries\n",
    "import numpy as np\n",
    "import matplotlib.pyplot as plt\n",
    "%matplotlib inline\n",
    "import seaborn as sns\n",
    "import pandas as pd"
   ]
  },
  {
   "cell_type": "code",
   "execution_count": 9,
   "metadata": {
    "collapsed": false
   },
   "outputs": [
    {
     "name": "stdout",
     "output_type": "stream",
     "text": [
      "C:\\Users\\mgrou\\Documents\\GitHub\\final_project\n",
      "\n",
      " ['.ipynb_checkpoints', 'Cheng_Grout_final_project.ipynb', 'JSexomes_1_1percentExAC_reAnn138_output_new.txt', 'JSexomes_2_output_1percentExAC.xlsx']\n"
     ]
    }
   ],
   "source": [
    "# Run this command to print files in directory; useful for knowing exact names of files for importing\n",
    "import os\n",
    "print(os.getcwd())\n",
    "print(\"\\n\", os.listdir()) # list items in current working directory after \"\\n\" return key"
   ]
  },
  {
   "cell_type": "code",
   "execution_count": 11,
   "metadata": {
    "collapsed": false
   },
   "outputs": [],
   "source": [
    "# import 2nd round of JS exomes\n",
    "exome_2 = pd.read_excel(\"JSexomes_2_output_1percentExAC.xlsx\")"
   ]
  },
  {
   "cell_type": "code",
   "execution_count": 12,
   "metadata": {
    "collapsed": true
   },
   "outputs": [],
   "source": [
    "# import 1st round of JS exome data\n",
    "exome_1 = pd.read_table(\"JSexomes_1_1percentExAC_reAnn138_output_new.txt\")"
   ]
  },
  {
   "cell_type": "code",
   "execution_count": 25,
   "metadata": {
    "collapsed": false
   },
   "outputs": [
    {
     "name": "stdout",
     "output_type": "stream",
     "text": [
      "(449531, 46)\n",
      "(293408, 40)\n",
      "(156123, 39)\n"
     ]
    }
   ],
   "source": [
    "# Merge old and new exome data sets together into one pd df\n",
    "exome = pd.concat([exome_1, exome_2])\n",
    "exome.columns\n",
    "print(exome.shape)\n",
    "print(exome_1.shape)\n",
    "print(exome_2.shape)"
   ]
  },
  {
   "cell_type": "code",
   "execution_count": 28,
   "metadata": {
    "collapsed": false
   },
   "outputs": [
    {
     "data": {
      "text/plain": [
       "Index(['AB', 'AC_Hmz(,Hemi)', 'AC_Home', 'AN_Adj', 'Alt', 'AlternateAllele',\n",
       "       'AminoAcids', 'CADD_PHRED_score', 'CADD_score', 'CDNA_Position',\n",
       "       'Chromosome', 'Dist2Splice', 'ESP_AA_Frequency', 'ESP_Afr_Frequency',\n",
       "       'ESP_All_Frequency', 'ESP_Asn_Frequency', 'ESP_EA_Frequency',\n",
       "       'ESP_Eur_Frequency', 'ExAC_All_MAF', 'ExAC_Ethnicity', 'ExAC_Filter',\n",
       "       'ExAC_Highest_MAF', 'ExAC_NFE_MAF', 'File Name', 'Filter', 'GERP',\n",
       "       'GVSfunction', 'Gene', 'Genotype', 'P1Alt', 'P1Ref', 'P1Total',\n",
       "       'P1_AltFreq', 'P2Alt', 'P2Ref', 'P2Total', 'P2_AltFreq', 'Polyphen',\n",
       "       'Position', 'Proband_Sample_Name', 'Protein_Position', 'Rarity_type',\n",
       "       'Ref', 'ReferenceAllele', 'Total_RD', 'rsID'],\n",
       "      dtype='object')"
      ]
     },
     "execution_count": 28,
     "metadata": {},
     "output_type": "execute_result"
    }
   ],
   "source": [
    "# Print column names of new exomes df\n",
    "exome.columns"
   ]
  },
  {
   "cell_type": "code",
   "execution_count": null,
   "metadata": {
    "collapsed": true
   },
   "outputs": [],
   "source": []
  }
 ],
 "metadata": {
  "anaconda-cloud": {},
  "kernelspec": {
   "display_name": "Python [conda root]",
   "language": "python",
   "name": "conda-root-py"
  },
  "language_info": {
   "codemirror_mode": {
    "name": "ipython",
    "version": 3
   },
   "file_extension": ".py",
   "mimetype": "text/x-python",
   "name": "python",
   "nbconvert_exporter": "python",
   "pygments_lexer": "ipython3",
   "version": "3.5.2"
  }
 },
 "nbformat": 4,
 "nbformat_minor": 1
}
