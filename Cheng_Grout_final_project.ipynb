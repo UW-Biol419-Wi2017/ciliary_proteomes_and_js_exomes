{
 "cells": [
  {
   "cell_type": "code",
   "execution_count": 6,
   "metadata": {
    "collapsed": true
   },
   "outputs": [],
   "source": [
    "# preliminaries\n",
    "import numpy as np\n",
    "import matplotlib.pyplot as plt\n",
    "%matplotlib inline\n",
    "import seaborn as sns\n",
    "import pandas as pd"
   ]
  },
  {
   "cell_type": "code",
   "execution_count": 7,
   "metadata": {
    "collapsed": false
   },
   "outputs": [
    {
     "name": "stdout",
     "output_type": "stream",
     "text": [
      "C:\\Users\\hankc\\OneDrive\\Documents\\GitHub\\ciliary_proteomes_and_js_exomes\n",
      "\n",
      " ['.git', '.ipynb_checkpoints', 'Cheng_Grout_final_project.ipynb', 'JSexomes_1_1percentExAC_reAnn138_output_new.txt', 'JSexomes_2_output_1percentExAC.xlsx', 'README.md']\n"
     ]
    }
   ],
   "source": [
    "# Run this command to print files in directory; useful for knowing exact names of files for importing\n",
    "import os\n",
    "print(os.getcwd())\n",
    "print(\"\\n\", os.listdir()) # list items in current working directory after \"\\n\" return key"
   ]
  },
  {
   "cell_type": "code",
   "execution_count": 8,
   "metadata": {
    "collapsed": false
   },
   "outputs": [],
   "source": [
    "# import 2nd round of JS exomes\n",
    "exome_2 = pd.read_excel(\"JSexomes_2_output_1percentExAC.xlsx\")"
   ]
  },
  {
   "cell_type": "code",
   "execution_count": 9,
   "metadata": {
    "collapsed": true
   },
   "outputs": [],
   "source": [
    "# import 1st round of JS exome data\n",
    "exome_1 = pd.read_table(\"JSexomes_1_1percentExAC_reAnn138_output_new.txt\")"
   ]
  },
  {
   "cell_type": "code",
   "execution_count": 10,
   "metadata": {
    "collapsed": false
   },
   "outputs": [
    {
     "name": "stdout",
     "output_type": "stream",
     "text": [
      "(449531, 46)\n",
      "(293408, 40)\n",
      "(156123, 39)\n"
     ]
    }
   ],
   "source": [
    "# Merge old and new exome data sets together into one pd df\n",
    "exome = pd.concat([exome_1, exome_2])\n",
    "exome.columns\n",
    "print(exome.shape)\n",
    "print(exome_1.shape)\n",
    "print(exome_2.shape)"
   ]
  },
  {
   "cell_type": "code",
   "execution_count": 11,
   "metadata": {
    "collapsed": false
   },
   "outputs": [
    {
     "data": {
      "text/plain": [
       "Index(['AB', 'AC_Hmz(,Hemi)', 'AC_Home', 'AN_Adj', 'Alt', 'AlternateAllele',\n",
       "       'AminoAcids', 'CADD_PHRED_score', 'CADD_score', 'CDNA_Position',\n",
       "       'Chromosome', 'Dist2Splice', 'ESP_AA_Frequency', 'ESP_Afr_Frequency',\n",
       "       'ESP_All_Frequency', 'ESP_Asn_Frequency', 'ESP_EA_Frequency',\n",
       "       'ESP_Eur_Frequency', 'ExAC_All_MAF', 'ExAC_Ethnicity', 'ExAC_Filter',\n",
       "       'ExAC_Highest_MAF', 'ExAC_NFE_MAF', 'File Name', 'Filter', 'GERP',\n",
       "       'GVSfunction', 'Gene', 'Genotype', 'P1Alt', 'P1Ref', 'P1Total',\n",
       "       'P1_AltFreq', 'P2Alt', 'P2Ref', 'P2Total', 'P2_AltFreq', 'Polyphen',\n",
       "       'Position', 'Proband_Sample_Name', 'Protein_Position', 'Rarity_type',\n",
       "       'Ref', 'ReferenceAllele', 'Total_RD', 'rsID'],\n",
       "      dtype='object')"
      ]
     },
     "execution_count": 11,
     "metadata": {},
     "output_type": "execute_result"
    }
   ],
   "source": [
    "# Print column names of new exomes df\n",
    "exome.columns"
   ]
  },
  {
   "cell_type": "code",
   "execution_count": 12,
   "metadata": {
    "collapsed": true
   },
   "outputs": [],
   "source": [
    "# changes changes changes"
   ]
  },
  {
   "cell_type": "code",
   "execution_count": 35,
   "metadata": {
    "collapsed": false
   },
   "outputs": [
    {
     "name": "stderr",
     "output_type": "stream",
     "text": [
      "C:\\Users\\hankc\\Anaconda3\\lib\\site-packages\\ipykernel\\__main__.py:3: SettingWithCopyWarning: \n",
      "A value is trying to be set on a copy of a slice from a DataFrame.\n",
      "Try using .loc[row_indexer,col_indexer] = value instead\n",
      "\n",
      "See the caveats in the documentation: http://pandas.pydata.org/pandas-docs/stable/indexing.html#indexing-view-versus-copy\n",
      "  app.launch_new_instance()\n"
     ]
    }
   ],
   "source": [
    "FilteredExac = exome['ExAC_All_MAF'].replace('EXNF',0) #turn all EXNF values in the Exac volumn into zeros\n",
    "exomeFiltered  = exome[['Gene','CADD_score', 'AB', 'Chromosome', 'Dist2Splice']] # Created a new dataframe with only a subset of columns\n",
    "exomeFiltered['FilteredExac'] = FilteredExac #added the FilteredExac column into the dataframe"
   ]
  },
  {
   "cell_type": "code",
   "execution_count": 36,
   "metadata": {
    "collapsed": false
   },
   "outputs": [
    {
     "name": "stdout",
     "output_type": "stream",
     "text": [
      "      Gene CADD_score    AB Chromosome  Dist2Splice FilteredExac\n",
      "0    DNMBP      0.647  1.00         10         66.0            0\n",
      "1  CWF19L1      11.65  0.45         10         80.0            0\n",
      "2  C10orf2      3.704  0.45         10          3.0            0\n",
      "3    LZTS2      10.92  0.60         10        144.0   0.00005152\n",
      "4    PDZD7      2.215  0.44         10         14.0   0.00010217\n"
     ]
    }
   ],
   "source": [
    "print(exomeFiltered.head()) #The FilteredExac column is appropriately added"
   ]
  },
  {
   "cell_type": "code",
   "execution_count": 45,
   "metadata": {
    "collapsed": false
   },
   "outputs": [],
   "source": [
    "CellBodyOnly = pd.read_excel(\"CellBody_only_Repaired.xlsx\") \n",
    "CiliaOnly = pd.read_excel(\"Cilia_only_fraction.xlsx\") \n",
    "BodyAndCilia = pd.read_excel(\"Cellbody_and_cilia+_fraction.xlsx\") \n",
    "CellBodyOnlyGenes = CellBodyOnly['Gene names'] #Created dataframe with gene products localizing to cell body\n",
    "CiliaOnlyGenes = CiliaOnly['Gene names'] #Created dataframe with gene products localizing to the cilia\n",
    "BodyAndCiliaGenes = BodyAndCilia['Gene names'] #Created dataframe with gene products localizing to body and cilia"
   ]
  },
  {
   "cell_type": "code",
   "execution_count": 150,
   "metadata": {
    "collapsed": false
   },
   "outputs": [],
   "source": [
    "Genes = exomeFiltered['Gene'] #Created dataframe that contains all genes in the exome data\n",
    "subsetGene = Genes[:449531] #Created a smaller dataframe for easier testing\n",
    "index = np.zeros(len(subsetGene)) #the index of the smaller dataframe\n",
    "columns = ['Localization']\n",
    "LocalizationPosition = pd.DataFrame(index=index,columns=columns) #Created a dataframe that will contain the localization position corresponding to each gene\n",
    "LocalizationPositionArray = np.zeros(len(subsetGene)) #Created an array that contains the same information as the above dataframe. It might be easier to add the values into an array first versus a dataframe"
   ]
  },
  {
   "cell_type": "code",
   "execution_count": null,
   "metadata": {
    "collapsed": false
   },
   "outputs": [],
   "source": [
    "#This is the part that I am stuck on. I don't know how to classify each gene in the exome data as being in the cilia, body, or both"
   ]
  },
  {
   "cell_type": "code",
   "execution_count": 152,
   "metadata": {
    "collapsed": false
   },
   "outputs": [
    {
     "ename": "AttributeError",
     "evalue": "module 'pandas' has no attribute 'subsetGene'",
     "output_type": "error",
     "traceback": [
      "\u001b[0;31m---------------------------------------------------------------------------\u001b[0m",
      "\u001b[0;31mAttributeError\u001b[0m                            Traceback (most recent call last)",
      "\u001b[0;32m<ipython-input-152-34316a6e37bd>\u001b[0m in \u001b[0;36m<module>\u001b[0;34m()\u001b[0m\n\u001b[1;32m      1\u001b[0m \u001b[1;32mfor\u001b[0m \u001b[0mx\u001b[0m \u001b[1;32min\u001b[0m \u001b[0mrange\u001b[0m\u001b[1;33m(\u001b[0m\u001b[0mlen\u001b[0m\u001b[1;33m(\u001b[0m\u001b[0msubsetGene\u001b[0m\u001b[1;33m)\u001b[0m\u001b[1;33m)\u001b[0m\u001b[1;33m:\u001b[0m\u001b[1;33m\u001b[0m\u001b[0m\n\u001b[0;32m----> 2\u001b[0;31m     \u001b[1;32mif\u001b[0m \u001b[0mCellBodyOnlyGenes\u001b[0m\u001b[1;33m.\u001b[0m\u001b[0misin\u001b[0m\u001b[1;33m(\u001b[0m\u001b[0mpd\u001b[0m\u001b[1;33m.\u001b[0m\u001b[0msubsetGene\u001b[0m\u001b[1;33m[\u001b[0m\u001b[0mx\u001b[0m\u001b[1;33m]\u001b[0m\u001b[1;33m.\u001b[0m\u001b[0msplit\u001b[0m\u001b[1;33m(\u001b[0m\u001b[1;33m)\u001b[0m\u001b[1;33m)\u001b[0m\u001b[1;33m[\u001b[0m\u001b[1;36m0\u001b[0m\u001b[1;33m]\u001b[0m\u001b[1;33m:\u001b[0m \u001b[1;31m#if any cell body only gene is found in the gene column of the variants,\u001b[0m\u001b[1;33m\u001b[0m\u001b[0m\n\u001b[0m\u001b[1;32m      3\u001b[0m         \u001b[0mLocalizationPositionArray\u001b[0m\u001b[1;33m[\u001b[0m\u001b[0mx\u001b[0m\u001b[1;33m]\u001b[0m \u001b[1;33m=\u001b[0m \u001b[1;36m1\u001b[0m \u001b[1;31m#then add 1 to the localization position index corresponding to the gene\u001b[0m\u001b[1;33m\u001b[0m\u001b[0m\n\u001b[1;32m      4\u001b[0m     \u001b[1;32melif\u001b[0m \u001b[0mCiliaOnlyGenes\u001b[0m\u001b[1;33m.\u001b[0m\u001b[0misin\u001b[0m\u001b[1;33m(\u001b[0m\u001b[0mpd\u001b[0m\u001b[1;33m.\u001b[0m\u001b[0msubsetGene\u001b[0m\u001b[1;33m[\u001b[0m\u001b[0mx\u001b[0m\u001b[1;33m]\u001b[0m\u001b[1;33m.\u001b[0m\u001b[0msplit\u001b[0m\u001b[1;33m(\u001b[0m\u001b[1;33m)\u001b[0m\u001b[1;33m)\u001b[0m\u001b[1;33m[\u001b[0m\u001b[1;36m0\u001b[0m\u001b[1;33m]\u001b[0m\u001b[1;33m:\u001b[0m\u001b[1;33m\u001b[0m\u001b[0m\n\u001b[1;32m      5\u001b[0m         \u001b[0mLocalizationPositionArray\u001b[0m\u001b[1;33m[\u001b[0m\u001b[0mx\u001b[0m\u001b[1;33m]\u001b[0m \u001b[1;33m=\u001b[0m \u001b[1;36m2\u001b[0m\u001b[1;33m\u001b[0m\u001b[0m\n",
      "\u001b[0;31mAttributeError\u001b[0m: module 'pandas' has no attribute 'subsetGene'"
     ]
    }
   ],
   "source": [
    "for x in range(len(subsetGene)):\n",
    "    if CellBodyOnlyGenes.isin(subsetGene[x].split())[0]: #if any cell body only gene is found in the gene column of the variants, \n",
    "        LocalizationPositionArray[x] = 1 #then add 1 to the localization position index corresponding to the gene\n",
    "    elif CiliaOnlyGenes.isin(subsetGene[x].split())[0]:\n",
    "        LocalizationPositionArray[x] = 2\n",
    "    elif BodyAndCiliaGenes.isin(subsetGene[x].split())[0]:\n",
    "        LocalizationPositionArray[x] = 3\n",
    "    else:\n",
    "        LocalizationPositionArray[x] = 4\n",
    "print(\"done\")\n",
    "np.sum(LocalizationPositionArray == 4)\n",
    "#Because all of the output is 4, this means that none of the proteomics genes matches the genes in exome data."
   ]
  },
  {
   "cell_type": "code",
   "execution_count": null,
   "metadata": {
    "collapsed": false
   },
   "outputs": [],
   "source": []
  },
  {
   "cell_type": "code",
   "execution_count": null,
   "metadata": {
    "collapsed": true
   },
   "outputs": [],
   "source": [
    "exomeFiltered['Localization_Position'] = LocalizationPosition #run after finished with loading LocalizationPosition. This adds the Localization_Position column into the filtered exome dataframe"
   ]
  },
  {
   "cell_type": "code",
   "execution_count": null,
   "metadata": {
    "collapsed": true
   },
   "outputs": [],
   "source": [
    "#PCA portion of the analysis\n",
    "from sklearn.decomposition import PCA\n",
    "eigenVariant = PCA()\n",
    "eigenVariant.fit(exomeFiltered)\n",
    "\n",
    "plt.plot(np.cumsum(eigenVariant.explained_variance_ratio_))\n",
    "plt.xlabel('Components')\n",
    "plt.ylabel('Cumulative explained variance')\n",
    "plt.title('Cumulative Explained Variance By Components')\n",
    "np.cumsum(eigenVariant.explained_variance_ratio_)"
   ]
  },
  {
   "cell_type": "code",
   "execution_count": null,
   "metadata": {
    "collapsed": true
   },
   "outputs": [],
   "source": [
    "variants_red = eigenVariants.transform(exomeFiltered)\n",
    "plt.scatter(variants_red[:, 0].flatten(),variants_red[:, 1].flatten())\n",
    "plt.title(\"PC1 by PC2\")\n",
    "plt.xlabel(\"PC1\")\n",
    "plt.ylabel(\"PC2\")"
   ]
  }
 ],
 "metadata": {
  "anaconda-cloud": {},
  "kernelspec": {
   "display_name": "Python [conda root]",
   "language": "python",
   "name": "conda-root-py"
  },
  "language_info": {
   "codemirror_mode": {
    "name": "ipython",
    "version": 3
   },
   "file_extension": ".py",
   "mimetype": "text/x-python",
   "name": "python",
   "nbconvert_exporter": "python",
   "pygments_lexer": "ipython3",
   "version": "3.5.2"
  }
 },
 "nbformat": 4,
 "nbformat_minor": 1
}
