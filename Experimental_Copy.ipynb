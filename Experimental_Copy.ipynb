{
 "cells": [
  {
   "cell_type": "code",
   "execution_count": 1,
   "metadata": {
    "collapsed": true
   },
   "outputs": [],
   "source": [
    "# preliminaries\n",
    "import numpy as np\n",
    "import matplotlib.pyplot as plt\n",
    "%matplotlib inline\n",
    "import seaborn as sns\n",
    "import pandas as pd"
   ]
  },
  {
   "cell_type": "code",
   "execution_count": 2,
   "metadata": {
    "collapsed": false
   },
   "outputs": [
    {
     "name": "stdout",
     "output_type": "stream",
     "text": [
      "C:\\Users\\mgrou\\Documents\\GitHub\\final_project\\ciliary_proteomes_and_js_exomes\n",
      "\n",
      " ['.git', '.ipynb_checkpoints', 'Cellbody_and_cilia+_fraction.xlsx', 'cellBody_only.xlsx', 'CellBody_only_Repaired.xlsx', 'Cheng_Grout_final_project.ipynb', 'Cilia_only_fraction.xlsx', 'Experimental_Copy.ipynb', 'JSexomes_1_1percentExAC_reAnn138_output_new.txt', 'JSexomes_2_output_1percentExAC.xlsx', 'js_genes.txt', 'README.md']\n"
     ]
    }
   ],
   "source": [
    "# Run this command to print files in directory; useful for knowing exact names of files for importing\n",
    "import os\n",
    "print(os.getcwd())\n",
    "print(\"\\n\", os.listdir()) # list items in current working directory after \"\\n\" return key"
   ]
  },
  {
   "cell_type": "code",
   "execution_count": 3,
   "metadata": {
    "collapsed": false
   },
   "outputs": [],
   "source": [
    "# import 2nd round of JS exomes\n",
    "exome_2 = pd.read_excel(\"JSexomes_2_output_1percentExAC.xlsx\")"
   ]
  },
  {
   "cell_type": "code",
   "execution_count": 4,
   "metadata": {
    "collapsed": true
   },
   "outputs": [],
   "source": [
    "# import 1st round of JS exome data\n",
    "exome_1 = pd.read_table(\"JSexomes_1_1percentExAC_reAnn138_output_new.txt\")"
   ]
  },
  {
   "cell_type": "code",
   "execution_count": 5,
   "metadata": {
    "collapsed": false
   },
   "outputs": [
    {
     "name": "stdout",
     "output_type": "stream",
     "text": [
      "(449531, 46)\n",
      "(293408, 40)\n",
      "(156123, 39)\n"
     ]
    }
   ],
   "source": [
    "# Merge old and new exome data sets together into one pd df\n",
    "exome = pd.concat([exome_1, exome_2])\n",
    "exome.columns\n",
    "print(exome.shape)\n",
    "print(exome_1.shape)\n",
    "print(exome_2.shape)"
   ]
  },
  {
   "cell_type": "code",
   "execution_count": 6,
   "metadata": {
    "collapsed": false
   },
   "outputs": [
    {
     "data": {
      "text/plain": [
       "Index(['AB', 'AC_Hmz(,Hemi)', 'AC_Home', 'AN_Adj', 'Alt', 'AlternateAllele',\n",
       "       'AminoAcids', 'CADD_PHRED_score', 'CADD_score', 'CDNA_Position',\n",
       "       'Chromosome', 'Dist2Splice', 'ESP_AA_Frequency', 'ESP_Afr_Frequency',\n",
       "       'ESP_All_Frequency', 'ESP_Asn_Frequency', 'ESP_EA_Frequency',\n",
       "       'ESP_Eur_Frequency', 'ExAC_All_MAF', 'ExAC_Ethnicity', 'ExAC_Filter',\n",
       "       'ExAC_Highest_MAF', 'ExAC_NFE_MAF', 'File Name', 'Filter', 'GERP',\n",
       "       'GVSfunction', 'Gene', 'Genotype', 'P1Alt', 'P1Ref', 'P1Total',\n",
       "       'P1_AltFreq', 'P2Alt', 'P2Ref', 'P2Total', 'P2_AltFreq', 'Polyphen',\n",
       "       'Position', 'Proband_Sample_Name', 'Protein_Position', 'Rarity_type',\n",
       "       'Ref', 'ReferenceAllele', 'Total_RD', 'rsID'],\n",
       "      dtype='object')"
      ]
     },
     "execution_count": 6,
     "metadata": {},
     "output_type": "execute_result"
    }
   ],
   "source": [
    "# Print column names of new exomes df\n",
    "exome.columns"
   ]
  },
  {
   "cell_type": "code",
   "execution_count": 22,
   "metadata": {
    "collapsed": true
   },
   "outputs": [],
   "source": [
    "# From all exome data, pull out only columns we want.\n",
    "\n",
    "# 'Gene' for us to later match up a variant to a data point by gene\n",
    "# If we are matching up data points back to exome variants exactly, we should use all chr, pos, ref, and alt\n",
    "# If we are simiply matching a data point back up to the gene, not necessarily WHICH VARIANT in exome data it is, then we don't need chr\n",
    "# Dist2Splice, CADD_score, and and ExAC value are all great. We want ExAC_Highest_MAF because this is going to be the demographic\n",
    "# category for which the allele frequency was the highest, out of all measured demographics. Often this is EXNF = 0 for ALL groups,but\n",
    "# not always.\n",
    "# Do we want to include AB (allele balance?) What information could this tell us in the assays we'll be doing? (Just something\n",
    "# for us to think about. I don't think it will hurt to have it in there.)\n",
    "\n",
    "# I changed the code a bit because Pandas was yelling at us for using direct (?) indexing over .loc[] instead.\n",
    "# We know from experience that the only place that 'EXNF' should appear in any column is in the ExAC-related ones,\n",
    "# so it should be no problem to replace that string w/ 0 in the whole df.\n",
    "\n",
    "exomeFiltered = exome.loc[:, ['Gene', 'CADD_score', 'AB', 'Chromosome', 'Dist2Splice', 'ExAC_Highest_MAF']].replace('EXNF',0)"
   ]
  },
  {
   "cell_type": "code",
   "execution_count": 23,
   "metadata": {
    "collapsed": false
   },
   "outputs": [
    {
     "name": "stdout",
     "output_type": "stream",
     "text": [
      "      Gene CADD_score    AB Chromosome  Dist2Splice ExAC_Highest_MAF\n",
      "0    DNMBP      0.647  1.00         10         66.0                0\n",
      "1  CWF19L1      11.65  0.45         10         80.0                0\n",
      "2  C10orf2      3.704  0.45         10          3.0                0\n",
      "3    LZTS2      10.92  0.60         10        144.0       0.00009806\n",
      "4    PDZD7      2.215  0.44         10         14.0       0.00017013\n"
     ]
    }
   ],
   "source": [
    "print(exomeFiltered.head())"
   ]
  },
  {
   "cell_type": "code",
   "execution_count": 126,
   "metadata": {
    "collapsed": false
   },
   "outputs": [],
   "source": [
    "# Import proteomic data sets\n",
    "CellBodyOnly = pd.read_excel(\"CellBody_only_Repaired.xlsx\")\n",
    "CiliaOnly = pd.read_excel(\"Cilia_only_fraction.xlsx\")\n",
    "BodyAndCilia = pd.read_excel(\"Cellbody_and_cilia+_fraction.xlsx\")\n",
    "\n",
    "# failed df-based approach\n",
    "# Pull out data on gene names only, remove any lines without data\n",
    "#CellBodyOnlyGenes = pd.DataFrame(CellBodyOnly['Gene names']).dropna()\n",
    "#CiliaOnlyGenes = pd.DataFrame(CiliaOnly['Gene names']).dropna()\n",
    "#BodyAndCiliaGenes = pd.DataFrame(BodyAndCilia['Gene names']).dropna()\n",
    "    # These three pandas dfs have some entries that are strings of multiple genes separated by a space.\n",
    "    # What we want is three dfs with each gene having its own entry...\n",
    "\n",
    "# Pull out data on gene names only, remove any lines without data\n",
    "CellBodyOnlyGenes = CellBodyOnly['Gene names']\n",
    "CiliaOnlyGenes = CiliaOnly['Gene names']\n",
    "BodyAndCiliaGenes = BodyAndCilia['Gene names']\n",
    "    # These three pandas series have some entries that are strings of multiple genes separated by a space.\n",
    "    # What we want is three series with each gene having its own entry...\n"
   ]
  },
  {
   "cell_type": "code",
   "execution_count": 78,
   "metadata": {
    "collapsed": false
   },
   "outputs": [
    {
     "data": {
      "text/plain": [
       "<bound method NDFrame.tail of                                    Gene names\n",
       "0                                      POLRMT\n",
       "1                              TACC1 KIAA1103\n",
       "2                                    AGK MULK\n",
       "3                            SLC35E1 PSEC0038\n",
       "4                                      ZFAND1\n",
       "5                                       SFXN3\n",
       "6                                     DCUN1D5\n",
       "7                                       CENPB\n",
       "8                                        SNCB\n",
       "9                          GNPAT DAPAT DHAPAT\n",
       "10                                      RAB32\n",
       "11                      ZKSCAN4 ZNF307 ZNF427\n",
       "12                 MRPL37 MRPL2 RPML2 HSPC235\n",
       "13                              INTS4 MSTP093\n",
       "14                             POLR2M GRINL1A\n",
       "15                       ZMPSTE24 FACE1 STE24\n",
       "16                                MICU2 EFHA1\n",
       "17                         MRPS11 RPMS11 HCC2\n",
       "18            TTC14 KIAA1980 UNQ5813/PRO19630\n",
       "19                                      PLOD3\n",
       "20           SMARCA2 BAF190B BRM SNF2A SNF2L2\n",
       "21                                       ATL3\n",
       "22                   ACD PIP1 PTOP TINT1 TPP1\n",
       "23                                  ATF7 ATFA\n",
       "24                                       EAF1\n",
       "25                      MSANTD4 KIAA1826 DC25\n",
       "26                                     AFG3L2\n",
       "27                                      ACSS3\n",
       "28                       ACSF2 UNQ493/PRO1009\n",
       "29                                CERS6 LASS6\n",
       "...                                       ...\n",
       "2438                    MRPS28 MRPS35 HSPC007\n",
       "2439               CHID1 GL008 PSEC0104 SB139\n",
       "2440               NADK2 C5orf33 MNADK NADKD1\n",
       "2441                               FTSJ3 SB92\n",
       "2442                                     TLE1\n",
       "2443  MAGED4 KIAA1859 MAGED4A MAGEE1; MAGED4B\n",
       "2444                                   CLPTM1\n",
       "2445                             SUPV3L1 SUV3\n",
       "2446                           HDAC5 KIAA0600\n",
       "2447                             FXN FRDA X25\n",
       "2448                      FEM1B F1AA KIAA0396\n",
       "2449              KANK1 ANKRD15 KANK KIAA0172\n",
       "2450                                    CECR5\n",
       "2451                        BRIP1 BACH1 FANCJ\n",
       "2452                      SRXN1 C20orf139 SRX\n",
       "2453                                NUPL2 CG1\n",
       "2454               AMIGO1 ALI2 AMIGO KIAA1163\n",
       "2455                                    LAMP2\n",
       "2456               MRPS22 C3orf5 RPMS22 GK002\n",
       "2457                                  ZCCHC10\n",
       "2458          RTN4 KIAA0886 NOGO My043 SP1507\n",
       "2459                             CGGBP1 CGGBP\n",
       "2460                       C21orf33 HES1 KNPI\n",
       "2461                            SRSF11 SFRS11\n",
       "2462                                    RSBN1\n",
       "2463                           MRPS10 MSTP040\n",
       "2464                                     NXT1\n",
       "2465                              HMGA2 HMGIC\n",
       "2466         HSD17B8 FABGL HKE6 RING2 SDR30C1\n",
       "2467                             CPPED1 CSTP1\n",
       "\n",
       "[2468 rows x 1 columns]>"
      ]
     },
     "execution_count": 78,
     "metadata": {},
     "output_type": "execute_result"
    }
   ],
   "source": [
    "CellBodyOnlyGenes.tail"
   ]
  },
  {
   "cell_type": "code",
   "execution_count": 130,
   "metadata": {
    "collapsed": false
   },
   "outputs": [
    {
     "name": "stdout",
     "output_type": "stream",
     "text": [
      "2468 5883\n",
      "710 1687\n",
      "3543 8459\n"
     ]
    }
   ],
   "source": [
    "# Replace each series that has some genes grouped together with a series where each gene has its own entry...\n",
    "\n",
    "# List of series (Julie's ciliary proteomic data) to be split into individual genes\n",
    "data = [CellBodyOnlyGenes, CiliaOnlyGenes, BodyAndCiliaGenes]\n",
    "# iterate through all series d in data\n",
    "for d in range(len(data)):\n",
    "    # empty list to catch individual genes in\n",
    "    genes = []\n",
    "    # iterate through all rows in series by index\n",
    "    for row in range(data[d].size):\n",
    "        # get row that we want in series\n",
    "        i = data[d].loc[row]\n",
    "        # append genes to include the data in the rows split on \" \" aka individual genes\n",
    "        genes = genes + str(i).split(\" \")\n",
    "    # print the change in gene count to verify process worked\n",
    "    print(str(data[d].size), str(len(genes)))\n",
    "    # replace old series with new series of proper size\n",
    "    data[d] = pd.Series(genes)\n",
    "    "
   ]
  },
  {
   "cell_type": "code",
   "execution_count": null,
   "metadata": {
    "collapsed": false
   },
   "outputs": [],
   "source": [
    "Counter = 0\n",
    "Genes = exomeFiltered['Gene']\n",
    "subsetGene = Genes[:3000]\n",
    "index = np.zeros(len(subsetGene))\n",
    "columns = ['Localization']\n",
    "LocalizationPosition = pd.DataFrame(index=index,columns=columns)\n",
    "#LocalizationPosition = LocalizationPosition.fillna(0)"
   ]
  },
  {
   "cell_type": "code",
   "execution_count": 122,
   "metadata": {
    "collapsed": true
   },
   "outputs": [],
   "source": [
    "LocalizationPositionArray = np.zeros(len(subsetGene))"
   ]
  },
  {
   "cell_type": "code",
   "execution_count": 114,
   "metadata": {
    "collapsed": false
   },
   "outputs": [
    {
     "name": "stdout",
     "output_type": "stream",
     "text": [
      "done\n"
     ]
    }
   ],
   "source": [
    "for x in range(len(subsetGene)):\n",
    "    if CellBodyOnlyGenes.isin(subsetGene[x].split())[0]:\n",
    "        LocalizationPosition[x] = 1\n",
    "    elif CiliaOnlyGenes.isin(subsetGene[x].split())[0]:\n",
    "        LocalizationPosition[x] = 2\n",
    "    elif BodyAndCiliaGenes.isin(subsetGene[x].split())[0]:\n",
    "        LocalizationPosition[x] = 3\n",
    "    else:\n",
    "        LocalizationPosition[x] = 0\n",
    "print(\"done\")"
   ]
  },
  {
   "cell_type": "code",
   "execution_count": 123,
   "metadata": {
    "collapsed": false
   },
   "outputs": [
    {
     "name": "stdout",
     "output_type": "stream",
     "text": [
      "done\n"
     ]
    },
    {
     "data": {
      "text/plain": [
       "array([ 4.,  4.,  4., ...,  4.,  4.,  4.])"
      ]
     },
     "execution_count": 123,
     "metadata": {},
     "output_type": "execute_result"
    }
   ],
   "source": [
    "for x in range(len(subsetGene)):\n",
    "    if CellBodyOnlyGenes.isin(subsetGene[x].split())[0]:\n",
    "        LocalizationPositionArray[x] = 1\n",
    "    elif CiliaOnlyGenes.isin(subsetGene[x].split())[0]:\n",
    "        LocalizationPositionArray[x] = 2\n",
    "    elif BodyAndCiliaGenes.isin(subsetGene[x].split())[0]:\n",
    "        LocalizationPositionArray[x] = 3\n",
    "    else:\n",
    "        LocalizationPositionArray[x] = 4\n",
    "print(\"done\")\n",
    "LocalizationPositionArray"
   ]
  },
  {
   "cell_type": "code",
   "execution_count": null,
   "metadata": {
    "collapsed": true
   },
   "outputs": [],
   "source": [
    "exomeFiltered['Localization_Position'] = LocalizationPosition #run after finished with loading LocalizationPosition"
   ]
  },
  {
   "cell_type": "code",
   "execution_count": 76,
   "metadata": {
    "collapsed": false
   },
   "outputs": [
    {
     "ename": "MemoryError",
     "evalue": "",
     "output_type": "error",
     "traceback": [
      "\u001b[0;31m---------------------------------------------------------------------------\u001b[0m",
      "\u001b[0;31mKeyError\u001b[0m                                  Traceback (most recent call last)",
      "\u001b[0;32mC:\\Users\\hankc\\Anaconda3\\lib\\site-packages\\pandas\\indexes\\base.py\u001b[0m in \u001b[0;36mget_loc\u001b[0;34m(self, key, method, tolerance)\u001b[0m\n\u001b[1;32m   1944\u001b[0m             \u001b[1;32mtry\u001b[0m\u001b[1;33m:\u001b[0m\u001b[1;33m\u001b[0m\u001b[0m\n\u001b[0;32m-> 1945\u001b[0;31m                 \u001b[1;32mreturn\u001b[0m \u001b[0mself\u001b[0m\u001b[1;33m.\u001b[0m\u001b[0m_engine\u001b[0m\u001b[1;33m.\u001b[0m\u001b[0mget_loc\u001b[0m\u001b[1;33m(\u001b[0m\u001b[0mkey\u001b[0m\u001b[1;33m)\u001b[0m\u001b[1;33m\u001b[0m\u001b[0m\n\u001b[0m\u001b[1;32m   1946\u001b[0m             \u001b[1;32mexcept\u001b[0m \u001b[0mKeyError\u001b[0m\u001b[1;33m:\u001b[0m\u001b[1;33m\u001b[0m\u001b[0m\n",
      "\u001b[0;32mpandas\\index.pyx\u001b[0m in \u001b[0;36mpandas.index.IndexEngine.get_loc (pandas\\index.c:4154)\u001b[0;34m()\u001b[0m\n",
      "\u001b[0;32mpandas\\index.pyx\u001b[0m in \u001b[0;36mpandas.index.IndexEngine.get_loc (pandas\\index.c:4018)\u001b[0;34m()\u001b[0m\n",
      "\u001b[0;32mpandas\\hashtable.pyx\u001b[0m in \u001b[0;36mpandas.hashtable.PyObjectHashTable.get_item (pandas\\hashtable.c:12368)\u001b[0;34m()\u001b[0m\n",
      "\u001b[0;32mpandas\\hashtable.pyx\u001b[0m in \u001b[0;36mpandas.hashtable.PyObjectHashTable.get_item (pandas\\hashtable.c:12322)\u001b[0;34m()\u001b[0m\n",
      "\u001b[0;31mKeyError\u001b[0m: 2399",
      "\nDuring handling of the above exception, another exception occurred:\n",
      "\u001b[0;31mKeyError\u001b[0m                                  Traceback (most recent call last)",
      "\u001b[0;32mC:\\Users\\hankc\\Anaconda3\\lib\\site-packages\\pandas\\core\\internals.py\u001b[0m in \u001b[0;36mset\u001b[0;34m(self, item, value, check)\u001b[0m\n\u001b[1;32m   3414\u001b[0m         \u001b[1;32mtry\u001b[0m\u001b[1;33m:\u001b[0m\u001b[1;33m\u001b[0m\u001b[0m\n\u001b[0;32m-> 3415\u001b[0;31m             \u001b[0mloc\u001b[0m \u001b[1;33m=\u001b[0m \u001b[0mself\u001b[0m\u001b[1;33m.\u001b[0m\u001b[0mitems\u001b[0m\u001b[1;33m.\u001b[0m\u001b[0mget_loc\u001b[0m\u001b[1;33m(\u001b[0m\u001b[0mitem\u001b[0m\u001b[1;33m)\u001b[0m\u001b[1;33m\u001b[0m\u001b[0m\n\u001b[0m\u001b[1;32m   3416\u001b[0m         \u001b[1;32mexcept\u001b[0m \u001b[0mKeyError\u001b[0m\u001b[1;33m:\u001b[0m\u001b[1;33m\u001b[0m\u001b[0m\n",
      "\u001b[0;32mC:\\Users\\hankc\\Anaconda3\\lib\\site-packages\\pandas\\indexes\\base.py\u001b[0m in \u001b[0;36mget_loc\u001b[0;34m(self, key, method, tolerance)\u001b[0m\n\u001b[1;32m   1946\u001b[0m             \u001b[1;32mexcept\u001b[0m \u001b[0mKeyError\u001b[0m\u001b[1;33m:\u001b[0m\u001b[1;33m\u001b[0m\u001b[0m\n\u001b[0;32m-> 1947\u001b[0;31m                 \u001b[1;32mreturn\u001b[0m \u001b[0mself\u001b[0m\u001b[1;33m.\u001b[0m\u001b[0m_engine\u001b[0m\u001b[1;33m.\u001b[0m\u001b[0mget_loc\u001b[0m\u001b[1;33m(\u001b[0m\u001b[0mself\u001b[0m\u001b[1;33m.\u001b[0m\u001b[0m_maybe_cast_indexer\u001b[0m\u001b[1;33m(\u001b[0m\u001b[0mkey\u001b[0m\u001b[1;33m)\u001b[0m\u001b[1;33m)\u001b[0m\u001b[1;33m\u001b[0m\u001b[0m\n\u001b[0m\u001b[1;32m   1948\u001b[0m \u001b[1;33m\u001b[0m\u001b[0m\n",
      "\u001b[0;32mpandas\\index.pyx\u001b[0m in \u001b[0;36mpandas.index.IndexEngine.get_loc (pandas\\index.c:4154)\u001b[0;34m()\u001b[0m\n",
      "\u001b[0;32mpandas\\index.pyx\u001b[0m in \u001b[0;36mpandas.index.IndexEngine.get_loc (pandas\\index.c:4018)\u001b[0;34m()\u001b[0m\n",
      "\u001b[0;32mpandas\\hashtable.pyx\u001b[0m in \u001b[0;36mpandas.hashtable.PyObjectHashTable.get_item (pandas\\hashtable.c:12368)\u001b[0;34m()\u001b[0m\n",
      "\u001b[0;32mpandas\\hashtable.pyx\u001b[0m in \u001b[0;36mpandas.hashtable.PyObjectHashTable.get_item (pandas\\hashtable.c:12322)\u001b[0;34m()\u001b[0m\n",
      "\u001b[0;31mKeyError\u001b[0m: 2399",
      "\nDuring handling of the above exception, another exception occurred:\n",
      "\u001b[0;31mMemoryError\u001b[0m                               Traceback (most recent call last)",
      "\u001b[0;32m<ipython-input-76-4944203d9996>\u001b[0m in \u001b[0;36m<module>\u001b[0;34m()\u001b[0m\n\u001b[1;32m      7\u001b[0m         \u001b[0mLocalizationPosition\u001b[0m\u001b[1;33m[\u001b[0m\u001b[0mx\u001b[0m\u001b[1;33m]\u001b[0m \u001b[1;33m=\u001b[0m \u001b[1;36m3\u001b[0m\u001b[1;33m\u001b[0m\u001b[0m\n\u001b[1;32m      8\u001b[0m     \u001b[1;32melse\u001b[0m\u001b[1;33m:\u001b[0m\u001b[1;33m\u001b[0m\u001b[0m\n\u001b[0;32m----> 9\u001b[0;31m         \u001b[0mLocalizationPosition\u001b[0m\u001b[1;33m[\u001b[0m\u001b[0mx\u001b[0m\u001b[1;33m]\u001b[0m \u001b[1;33m=\u001b[0m \u001b[1;36m0\u001b[0m\u001b[1;33m\u001b[0m\u001b[0m\n\u001b[0m\u001b[1;32m     10\u001b[0m \u001b[0mprint\u001b[0m\u001b[1;33m(\u001b[0m\u001b[1;34m\"done\"\u001b[0m\u001b[1;33m)\u001b[0m\u001b[1;33m\u001b[0m\u001b[0m\n",
      "\u001b[0;32mC:\\Users\\hankc\\Anaconda3\\lib\\site-packages\\pandas\\core\\frame.py\u001b[0m in \u001b[0;36m__setitem__\u001b[0;34m(self, key, value)\u001b[0m\n\u001b[1;32m   2355\u001b[0m         \u001b[1;32melse\u001b[0m\u001b[1;33m:\u001b[0m\u001b[1;33m\u001b[0m\u001b[0m\n\u001b[1;32m   2356\u001b[0m             \u001b[1;31m# set column\u001b[0m\u001b[1;33m\u001b[0m\u001b[1;33m\u001b[0m\u001b[0m\n\u001b[0;32m-> 2357\u001b[0;31m             \u001b[0mself\u001b[0m\u001b[1;33m.\u001b[0m\u001b[0m_set_item\u001b[0m\u001b[1;33m(\u001b[0m\u001b[0mkey\u001b[0m\u001b[1;33m,\u001b[0m \u001b[0mvalue\u001b[0m\u001b[1;33m)\u001b[0m\u001b[1;33m\u001b[0m\u001b[0m\n\u001b[0m\u001b[1;32m   2358\u001b[0m \u001b[1;33m\u001b[0m\u001b[0m\n\u001b[1;32m   2359\u001b[0m     \u001b[1;32mdef\u001b[0m \u001b[0m_setitem_slice\u001b[0m\u001b[1;33m(\u001b[0m\u001b[0mself\u001b[0m\u001b[1;33m,\u001b[0m \u001b[0mkey\u001b[0m\u001b[1;33m,\u001b[0m \u001b[0mvalue\u001b[0m\u001b[1;33m)\u001b[0m\u001b[1;33m:\u001b[0m\u001b[1;33m\u001b[0m\u001b[0m\n",
      "\u001b[0;32mC:\\Users\\hankc\\Anaconda3\\lib\\site-packages\\pandas\\core\\frame.py\u001b[0m in \u001b[0;36m_set_item\u001b[0;34m(self, key, value)\u001b[0m\n\u001b[1;32m   2422\u001b[0m         \u001b[0mself\u001b[0m\u001b[1;33m.\u001b[0m\u001b[0m_ensure_valid_index\u001b[0m\u001b[1;33m(\u001b[0m\u001b[0mvalue\u001b[0m\u001b[1;33m)\u001b[0m\u001b[1;33m\u001b[0m\u001b[0m\n\u001b[1;32m   2423\u001b[0m         \u001b[0mvalue\u001b[0m \u001b[1;33m=\u001b[0m \u001b[0mself\u001b[0m\u001b[1;33m.\u001b[0m\u001b[0m_sanitize_column\u001b[0m\u001b[1;33m(\u001b[0m\u001b[0mkey\u001b[0m\u001b[1;33m,\u001b[0m \u001b[0mvalue\u001b[0m\u001b[1;33m)\u001b[0m\u001b[1;33m\u001b[0m\u001b[0m\n\u001b[0;32m-> 2424\u001b[0;31m         \u001b[0mNDFrame\u001b[0m\u001b[1;33m.\u001b[0m\u001b[0m_set_item\u001b[0m\u001b[1;33m(\u001b[0m\u001b[0mself\u001b[0m\u001b[1;33m,\u001b[0m \u001b[0mkey\u001b[0m\u001b[1;33m,\u001b[0m \u001b[0mvalue\u001b[0m\u001b[1;33m)\u001b[0m\u001b[1;33m\u001b[0m\u001b[0m\n\u001b[0m\u001b[1;32m   2425\u001b[0m \u001b[1;33m\u001b[0m\u001b[0m\n\u001b[1;32m   2426\u001b[0m         \u001b[1;31m# check if we are modifying a copy\u001b[0m\u001b[1;33m\u001b[0m\u001b[1;33m\u001b[0m\u001b[0m\n",
      "\u001b[0;32mC:\\Users\\hankc\\Anaconda3\\lib\\site-packages\\pandas\\core\\generic.py\u001b[0m in \u001b[0;36m_set_item\u001b[0;34m(self, key, value)\u001b[0m\n\u001b[1;32m   1462\u001b[0m \u001b[1;33m\u001b[0m\u001b[0m\n\u001b[1;32m   1463\u001b[0m     \u001b[1;32mdef\u001b[0m \u001b[0m_set_item\u001b[0m\u001b[1;33m(\u001b[0m\u001b[0mself\u001b[0m\u001b[1;33m,\u001b[0m \u001b[0mkey\u001b[0m\u001b[1;33m,\u001b[0m \u001b[0mvalue\u001b[0m\u001b[1;33m)\u001b[0m\u001b[1;33m:\u001b[0m\u001b[1;33m\u001b[0m\u001b[0m\n\u001b[0;32m-> 1464\u001b[0;31m         \u001b[0mself\u001b[0m\u001b[1;33m.\u001b[0m\u001b[0m_data\u001b[0m\u001b[1;33m.\u001b[0m\u001b[0mset\u001b[0m\u001b[1;33m(\u001b[0m\u001b[0mkey\u001b[0m\u001b[1;33m,\u001b[0m \u001b[0mvalue\u001b[0m\u001b[1;33m)\u001b[0m\u001b[1;33m\u001b[0m\u001b[0m\n\u001b[0m\u001b[1;32m   1465\u001b[0m         \u001b[0mself\u001b[0m\u001b[1;33m.\u001b[0m\u001b[0m_clear_item_cache\u001b[0m\u001b[1;33m(\u001b[0m\u001b[1;33m)\u001b[0m\u001b[1;33m\u001b[0m\u001b[0m\n\u001b[1;32m   1466\u001b[0m \u001b[1;33m\u001b[0m\u001b[0m\n",
      "\u001b[0;32mC:\\Users\\hankc\\Anaconda3\\lib\\site-packages\\pandas\\core\\internals.py\u001b[0m in \u001b[0;36mset\u001b[0;34m(self, item, value, check)\u001b[0m\n\u001b[1;32m   3416\u001b[0m         \u001b[1;32mexcept\u001b[0m \u001b[0mKeyError\u001b[0m\u001b[1;33m:\u001b[0m\u001b[1;33m\u001b[0m\u001b[0m\n\u001b[1;32m   3417\u001b[0m             \u001b[1;31m# This item wasn't present, just insert at end\u001b[0m\u001b[1;33m\u001b[0m\u001b[1;33m\u001b[0m\u001b[0m\n\u001b[0;32m-> 3418\u001b[0;31m             \u001b[0mself\u001b[0m\u001b[1;33m.\u001b[0m\u001b[0minsert\u001b[0m\u001b[1;33m(\u001b[0m\u001b[0mlen\u001b[0m\u001b[1;33m(\u001b[0m\u001b[0mself\u001b[0m\u001b[1;33m.\u001b[0m\u001b[0mitems\u001b[0m\u001b[1;33m)\u001b[0m\u001b[1;33m,\u001b[0m \u001b[0mitem\u001b[0m\u001b[1;33m,\u001b[0m \u001b[0mvalue\u001b[0m\u001b[1;33m)\u001b[0m\u001b[1;33m\u001b[0m\u001b[0m\n\u001b[0m\u001b[1;32m   3419\u001b[0m             \u001b[1;32mreturn\u001b[0m\u001b[1;33m\u001b[0m\u001b[0m\n\u001b[1;32m   3420\u001b[0m \u001b[1;33m\u001b[0m\u001b[0m\n",
      "\u001b[0;32mC:\\Users\\hankc\\Anaconda3\\lib\\site-packages\\pandas\\core\\internals.py\u001b[0m in \u001b[0;36minsert\u001b[0;34m(self, loc, item, value, allow_duplicates)\u001b[0m\n\u001b[1;32m   3544\u001b[0m \u001b[1;33m\u001b[0m\u001b[0m\n\u001b[1;32m   3545\u001b[0m         \u001b[1;32mif\u001b[0m \u001b[0mlen\u001b[0m\u001b[1;33m(\u001b[0m\u001b[0mself\u001b[0m\u001b[1;33m.\u001b[0m\u001b[0mblocks\u001b[0m\u001b[1;33m)\u001b[0m \u001b[1;33m>\u001b[0m \u001b[1;36m100\u001b[0m\u001b[1;33m:\u001b[0m\u001b[1;33m\u001b[0m\u001b[0m\n\u001b[0;32m-> 3546\u001b[0;31m             \u001b[0mself\u001b[0m\u001b[1;33m.\u001b[0m\u001b[0m_consolidate_inplace\u001b[0m\u001b[1;33m(\u001b[0m\u001b[1;33m)\u001b[0m\u001b[1;33m\u001b[0m\u001b[0m\n\u001b[0m\u001b[1;32m   3547\u001b[0m \u001b[1;33m\u001b[0m\u001b[0m\n\u001b[1;32m   3548\u001b[0m     def reindex_axis(self, new_index, axis, method=None, limit=None,\n",
      "\u001b[0;32mC:\\Users\\hankc\\Anaconda3\\lib\\site-packages\\pandas\\core\\internals.py\u001b[0m in \u001b[0;36m_consolidate_inplace\u001b[0;34m(self)\u001b[0m\n\u001b[1;32m   3276\u001b[0m     \u001b[1;32mdef\u001b[0m \u001b[0m_consolidate_inplace\u001b[0m\u001b[1;33m(\u001b[0m\u001b[0mself\u001b[0m\u001b[1;33m)\u001b[0m\u001b[1;33m:\u001b[0m\u001b[1;33m\u001b[0m\u001b[0m\n\u001b[1;32m   3277\u001b[0m         \u001b[1;32mif\u001b[0m \u001b[1;32mnot\u001b[0m \u001b[0mself\u001b[0m\u001b[1;33m.\u001b[0m\u001b[0mis_consolidated\u001b[0m\u001b[1;33m(\u001b[0m\u001b[1;33m)\u001b[0m\u001b[1;33m:\u001b[0m\u001b[1;33m\u001b[0m\u001b[0m\n\u001b[0;32m-> 3278\u001b[0;31m             \u001b[0mself\u001b[0m\u001b[1;33m.\u001b[0m\u001b[0mblocks\u001b[0m \u001b[1;33m=\u001b[0m \u001b[0mtuple\u001b[0m\u001b[1;33m(\u001b[0m\u001b[0m_consolidate\u001b[0m\u001b[1;33m(\u001b[0m\u001b[0mself\u001b[0m\u001b[1;33m.\u001b[0m\u001b[0mblocks\u001b[0m\u001b[1;33m)\u001b[0m\u001b[1;33m)\u001b[0m\u001b[1;33m\u001b[0m\u001b[0m\n\u001b[0m\u001b[1;32m   3279\u001b[0m             \u001b[0mself\u001b[0m\u001b[1;33m.\u001b[0m\u001b[0m_is_consolidated\u001b[0m \u001b[1;33m=\u001b[0m \u001b[1;32mTrue\u001b[0m\u001b[1;33m\u001b[0m\u001b[0m\n\u001b[1;32m   3280\u001b[0m             \u001b[0mself\u001b[0m\u001b[1;33m.\u001b[0m\u001b[0m_known_consolidated\u001b[0m \u001b[1;33m=\u001b[0m \u001b[1;32mTrue\u001b[0m\u001b[1;33m\u001b[0m\u001b[0m\n",
      "\u001b[0;32mC:\\Users\\hankc\\Anaconda3\\lib\\site-packages\\pandas\\core\\internals.py\u001b[0m in \u001b[0;36m_consolidate\u001b[0;34m(blocks)\u001b[0m\n\u001b[1;32m   4267\u001b[0m     \u001b[1;32mfor\u001b[0m \u001b[1;33m(\u001b[0m\u001b[0m_can_consolidate\u001b[0m\u001b[1;33m,\u001b[0m \u001b[0mdtype\u001b[0m\u001b[1;33m)\u001b[0m\u001b[1;33m,\u001b[0m \u001b[0mgroup_blocks\u001b[0m \u001b[1;32min\u001b[0m \u001b[0mgrouper\u001b[0m\u001b[1;33m:\u001b[0m\u001b[1;33m\u001b[0m\u001b[0m\n\u001b[1;32m   4268\u001b[0m         merged_blocks = _merge_blocks(list(group_blocks), dtype=dtype,\n\u001b[0;32m-> 4269\u001b[0;31m                                       _can_consolidate=_can_consolidate)\n\u001b[0m\u001b[1;32m   4270\u001b[0m         \u001b[0mnew_blocks\u001b[0m \u001b[1;33m=\u001b[0m \u001b[0m_extend_blocks\u001b[0m\u001b[1;33m(\u001b[0m\u001b[0mmerged_blocks\u001b[0m\u001b[1;33m,\u001b[0m \u001b[0mnew_blocks\u001b[0m\u001b[1;33m)\u001b[0m\u001b[1;33m\u001b[0m\u001b[0m\n\u001b[1;32m   4271\u001b[0m     \u001b[1;32mreturn\u001b[0m \u001b[0mnew_blocks\u001b[0m\u001b[1;33m\u001b[0m\u001b[0m\n",
      "\u001b[0;32mC:\\Users\\hankc\\Anaconda3\\lib\\site-packages\\pandas\\core\\internals.py\u001b[0m in \u001b[0;36m_merge_blocks\u001b[0;34m(blocks, dtype, _can_consolidate)\u001b[0m\n\u001b[1;32m   4290\u001b[0m \u001b[1;33m\u001b[0m\u001b[0m\n\u001b[1;32m   4291\u001b[0m         \u001b[0margsort\u001b[0m \u001b[1;33m=\u001b[0m \u001b[0mnp\u001b[0m\u001b[1;33m.\u001b[0m\u001b[0margsort\u001b[0m\u001b[1;33m(\u001b[0m\u001b[0mnew_mgr_locs\u001b[0m\u001b[1;33m)\u001b[0m\u001b[1;33m\u001b[0m\u001b[0m\n\u001b[0;32m-> 4292\u001b[0;31m         \u001b[0mnew_values\u001b[0m \u001b[1;33m=\u001b[0m \u001b[0mnew_values\u001b[0m\u001b[1;33m[\u001b[0m\u001b[0margsort\u001b[0m\u001b[1;33m]\u001b[0m\u001b[1;33m\u001b[0m\u001b[0m\n\u001b[0m\u001b[1;32m   4293\u001b[0m         \u001b[0mnew_mgr_locs\u001b[0m \u001b[1;33m=\u001b[0m \u001b[0mnew_mgr_locs\u001b[0m\u001b[1;33m[\u001b[0m\u001b[0margsort\u001b[0m\u001b[1;33m]\u001b[0m\u001b[1;33m\u001b[0m\u001b[0m\n\u001b[1;32m   4294\u001b[0m \u001b[1;33m\u001b[0m\u001b[0m\n",
      "\u001b[0;31mMemoryError\u001b[0m: "
     ]
    }
   ],
   "source": [
    "for x in range(len(Genes)):\n",
    "    if CellBodyOnlyGenes.isin(Genes[x])[0]:\n",
    "        LocalizationPosition[Counter] = 1\n",
    "    elif CiliaOnlyGenes.isin(Genes[x])[0]:\n",
    "        LocalizationPosition[Counter] = 2\n",
    "    elif BodyAndCiliaGenes.isin(Genes[x])[0]:\n",
    "        LocalizationPosition[x] = 3\n",
    "    else:\n",
    "        LocalizationPosition[x] = 0\n",
    "print(\"done\")"
   ]
  },
  {
   "cell_type": "code",
   "execution_count": null,
   "metadata": {
    "collapsed": true
   },
   "outputs": [],
   "source": []
  },
  {
   "cell_type": "code",
   "execution_count": null,
   "metadata": {
    "collapsed": true
   },
   "outputs": [],
   "source": [
    "for x in range(len(Genes)):\n",
    "    if CellBodyOnlyGenes.isin(Genes[Counter])[0]:\n",
    "        LocalizationPosition[Counter] = 0\n",
    "   # elif Genes[Counter] == CiliaOnlyGenes:\n",
    "   #     LocalizationPosition[Counter] = 1\n",
    "   # elif Genes[Counter] == BodyAndCiliaGenes:\n",
    "   #     LocalizationPosition[Counter] = 2\n",
    "   # else:\n",
    "   #     LocalizationPosition[Counter] = NaN\n",
    "    Counter += 1\n",
    "print(\"done\")"
   ]
  }
 ],
 "metadata": {
  "anaconda-cloud": {},
  "kernelspec": {
   "display_name": "Python [conda root]",
   "language": "python",
   "name": "conda-root-py"
  },
  "language_info": {
   "codemirror_mode": {
    "name": "ipython",
    "version": 3
   },
   "file_extension": ".py",
   "mimetype": "text/x-python",
   "name": "python",
   "nbconvert_exporter": "python",
   "pygments_lexer": "ipython3",
   "version": "3.5.2"
  }
 },
 "nbformat": 4,
 "nbformat_minor": 1
}
