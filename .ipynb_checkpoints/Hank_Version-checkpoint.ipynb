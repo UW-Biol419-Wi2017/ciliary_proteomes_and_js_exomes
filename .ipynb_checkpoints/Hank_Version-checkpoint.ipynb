{
 "cells": [
  {
   "cell_type": "code",
   "execution_count": null,
   "metadata": {
    "collapsed": true
   },
   "outputs": [],
   "source": [
    "# preliminaries\n",
    "import numpy as np\n",
    "import matplotlib.pyplot as plt\n",
    "%matplotlib inline\n",
    "import seaborn as sns\n",
    "import pandas as pd\n",
    "from sklearn.discriminant_analysis import LinearDiscriminantAnalysis\n",
    "from sklearn.decomposition import PCA"
   ]
  },
  {
   "cell_type": "code",
   "execution_count": null,
   "metadata": {
    "collapsed": true
   },
   "outputs": [],
   "source": [
    "exomeFiltered = pd.read_excel(\"\")"
   ]
  },
  {
   "cell_type": "code",
   "execution_count": null,
   "metadata": {
    "collapsed": true
   },
   "outputs": [],
   "source": [
    "#PCA portion of the analysis\n",
    "eigenVariant = PCA()\n",
    "eigenVariant.fit(exomeFiltered)\n",
    "\n",
    "plt.plot(np.cumsum(eigenVariant.explained_variance_ratio_))\n",
    "plt.xlabel('Components')\n",
    "plt.ylabel('Cumulative explained variance')\n",
    "plt.title('Cumulative Explained Variance By Components')\n",
    "np.cumsum(eigenVariant.explained_variance_ratio_)"
   ]
  },
  {
   "cell_type": "code",
   "execution_count": null,
   "metadata": {
    "collapsed": true
   },
   "outputs": [],
   "source": [
    "variants_red = eigenVariants.transform(exomeFiltered)\n",
    "plt.scatter(variants_red[:, 0].flatten(),variants_red[:, 1].flatten()) #add c=exomeFiltered[JS] later to label JS variants\n",
    "plt.title(\"PC1 by PC2\")\n",
    "plt.xlabel(\"PC1\")\n",
    "plt.ylabel(\"PC2\")"
   ]
  },
  {
   "cell_type": "code",
   "execution_count": null,
   "metadata": {
    "collapsed": true
   },
   "outputs": [],
   "source": [
    "#Classification portion of the analysis\n",
    "model = LinearDiscriminantAnalysis()\n",
    "\n",
    "X = variants_red[:, [0,1]].flatten()\n",
    "y = exomeFiltered['JS']\n",
    "\n",
    "model.fit(X, y)\n",
    "\n",
    "predicted = model.predict(X)\n",
    "\n",
    "print(predicted)\n",
    "\n",
    "for JS in set(predicted):\n",
    "    plt.plot(X.iloc[predicted==JS,0], X.iloc[predicted==JS,1], 'o')"
   ]
  }
 ],
 "metadata": {
  "kernelspec": {
   "display_name": "Python [default]",
   "language": "python",
   "name": "python3"
  },
  "language_info": {
   "codemirror_mode": {
    "name": "ipython",
    "version": 3
   },
   "file_extension": ".py",
   "mimetype": "text/x-python",
   "name": "python",
   "nbconvert_exporter": "python",
   "pygments_lexer": "ipython3",
   "version": "3.5.2"
  }
 },
 "nbformat": 4,
 "nbformat_minor": 1
}
