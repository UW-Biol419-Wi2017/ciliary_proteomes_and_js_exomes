{
 "cells": [
  {
   "cell_type": "code",
   "execution_count": 1,
   "metadata": {
    "collapsed": true
   },
   "outputs": [],
   "source": [
    "import numpy as np\n",
    "import scipy.io as sio\n",
    "import matplotlib.pyplot as plt\n",
    "%matplotlib inline\n",
    "import numpy as np\n",
    "import matplotlib.pyplot as plt\n",
    "%matplotlib inline\n",
    "import seaborn as sns\n",
    "import pandas as pd\n",
    "from sklearn.discriminant_analysis import LinearDiscriminantAnalysis\n",
    "from sklearn.decomposition import PCA"
   ]
  },
  {
   "cell_type": "code",
   "execution_count": 2,
   "metadata": {
    "collapsed": false
   },
   "outputs": [],
   "source": [
    "exome = pd.read_excel(\"HC3_js_exomes_2_MG_170307.xlsx\")\n",
    "exomeFiltered = exome.loc[:, ['GERP','CADD_score', 'Dist2Splice','AB', 'P1_AltFreq', 'P2_AltFreq' ,'localization', 'js_cause']]\n",
    "exomeLoc = exomeFiltered.loc[:,['GERP','CADD_score', 'Dist2Splice','AB', 'P1_AltFreq', 'P2_AltFreq' , 'localization']]\n",
    "exomeJS = exomeFiltered.loc[:,['GERP','CADD_score', 'Dist2Splice','AB', 'P1_AltFreq', 'P2_AltFreq' , 'js_cause']]\n",
    "exomeTest = exomeFiltered.loc[:,['GERP','CADD_score', 'Dist2Splice','AB', 'P1_AltFreq', 'P2_AltFreq' ]]\n",
    "\n",
    "genes = exomeTest.values#Change to .values when using answer key method\n",
    "cancer_types = exomeLoc['localization'].values #Change to .values when using answer key method"
   ]
  },
  {
   "cell_type": "code",
   "execution_count": 3,
   "metadata": {
    "collapsed": false
   },
   "outputs": [],
   "source": [
    "from sklearn.decomposition import PCA\n",
    "\n",
    "genes_pca = PCA()\n",
    "genes_pc = genes_pca.fit_transform(genes)"
   ]
  },
  {
   "cell_type": "code",
   "execution_count": 4,
   "metadata": {
    "collapsed": false
   },
   "outputs": [],
   "source": [
    "def test_train_id(N, test_frac):\n",
    "    ntrain = np.floor(N * (1 - test_frac)).astype(int)\n",
    "    randperm = np.random.permutation(N)\n",
    "    train = randperm[:ntrain]\n",
    "    test = randperm[(ntrain-N):]\n",
    "    return train, test"
   ]
  },
  {
   "cell_type": "code",
   "execution_count": 5,
   "metadata": {
    "collapsed": false
   },
   "outputs": [],
   "source": [
    "from sklearn.decomposition import PCA\n",
    "\n",
    "def cross_val_class_accuracy(model, X, y, r, test_frac, reps):\n",
    "    genes_pca = PCA()\n",
    "    \n",
    "    score = np.array([])\n",
    "    for i in range(reps):\n",
    "        train, test = test_train_id(y.size, test_frac)\n",
    "        y_train = y[train]\n",
    "        y_test = y[test]\n",
    "        \n",
    "        X_train = genes_pca.fit_transform(X[train, :])[:, :r]\n",
    "        X_test = genes_pca.transform(X[test, :])[:, :r]\n",
    "        \n",
    "        model.fit(X_train, y_train)\n",
    "        \n",
    "        pred = model.predict(X_test)\n",
    "        this_score = sum(pred == y_test) / len(y_test)\n",
    "        \n",
    "        score = np.append(score, this_score)\n",
    "    return score"
   ]
  },
  {
   "cell_type": "code",
   "execution_count": 6,
   "metadata": {
    "collapsed": false
   },
   "outputs": [
    {
     "name": "stdout",
     "output_type": "stream",
     "text": [
      "check\n"
     ]
    }
   ],
   "source": [
    "print('check')"
   ]
  },
  {
   "cell_type": "code",
   "execution_count": 7,
   "metadata": {
    "collapsed": false
   },
   "outputs": [
    {
     "name": "stdout",
     "output_type": "stream",
     "text": [
      "0.98107195301\n"
     ]
    }
   ],
   "source": [
    "from sklearn.discriminant_analysis import LinearDiscriminantAnalysis\n",
    "\n",
    "\n",
    "score = cross_val_class_accuracy(LinearDiscriminantAnalysis(), genes, \n",
    "                                cancer_types, 6, 0.2, 100)\n",
    "print(score.mean())"
   ]
  },
  {
   "cell_type": "code",
   "execution_count": 8,
   "metadata": {
    "collapsed": true
   },
   "outputs": [],
   "source": [
    "#Answer Key Method"
   ]
  },
  {
   "cell_type": "code",
   "execution_count": 9,
   "metadata": {
    "collapsed": false
   },
   "outputs": [],
   "source": [
    "from sklearn.discriminant_analysis import LinearDiscriminantAnalysis\n",
    "from sklearn.neighbors import KNeighborsClassifier\n",
    "from sklearn import svm\n",
    "from sklearn.tree import DecisionTreeClassifier\n",
    "\n",
    "testfrac = 0.2\n",
    "reps = 50\n",
    "\n",
    "lda_r6_scores = cross_val_class_accuracy(LinearDiscriminantAnalysis(), \n",
    "                                          genes, cancer_types, 6,\n",
    "                                          testfrac, reps)\n",
    "lda_r2_scores = cross_val_class_accuracy(LinearDiscriminantAnalysis(), \n",
    "                                          genes, cancer_types, 2,\n",
    "                                          testfrac, reps)\n",
    "knn6_scores = cross_val_class_accuracy(KNeighborsClassifier(n_neighbors=2),\n",
    "                                       genes, cancer_types, 6,\n",
    "                                        testfrac, reps)\n",
    "knn2_scores = cross_val_class_accuracy(KNeighborsClassifier(),\n",
    "                                       genes, cancer_types, 2,\n",
    "                                        testfrac, reps)\n",
    "svm6_scores = cross_val_class_accuracy(svm.SVC(),\n",
    "                                      genes, cancer_types, 6, \n",
    "                                     testfrac, reps)\n",
    "tree6_scores = cross_val_class_accuracy(DecisionTreeClassifier(),\n",
    "                                       genes, cancer_types, 6,\n",
    "                                      testfrac, reps)"
   ]
  },
  {
   "cell_type": "code",
   "execution_count": 10,
   "metadata": {
    "collapsed": false
   },
   "outputs": [
    {
     "name": "stdout",
     "output_type": "stream",
     "text": [
      "Check\n"
     ]
    }
   ],
   "source": [
    "print('Check')"
   ]
  },
  {
   "cell_type": "code",
   "execution_count": 11,
   "metadata": {
    "collapsed": false
   },
   "outputs": [
    {
     "data": {
      "text/plain": [
       "<matplotlib.text.Text at 0x1c9f937bbe0>"
      ]
     },
     "execution_count": 11,
     "metadata": {},
     "output_type": "execute_result"
    },
    {
     "data": {
      "image/png": "[encoded data removed]",
      "text/plain": [
       "<matplotlib.figure.Figure at 0x1c9f9414390>"
      ]
     },
     "metadata": {},
     "output_type": "display_data"
    }
   ],
   "source": [
    "classifiers = ('lda_r6', 'lda_r2', 'knn6', 'knn2', 'svm6', 'tree6')\n",
    "scores = [lda_r6_scores.mean(), lda_r2_scores.mean(), \n",
    "          knn6_scores.mean(), knn2_scores.mean(),\n",
    "         svm6_scores.mean(), tree6_scores.mean()]\n",
    "scores_err = [lda_r6_scores.std(), lda_r2_scores.std(), \n",
    "          knn6_scores.std(), knn2_scores.std(),\n",
    "         svm6_scores.std(), tree6_scores.std()]\n",
    "\n",
    "\n",
    "plt.bar(range(len(classifiers)), scores, \n",
    "        yerr=scores_err,\n",
    "        align='center', alpha=0.4,)\n",
    "plt.xticks(range(len(classifiers)), classifiers)\n",
    "plt.ylabel('Cross-validated accuracy')\n",
    "plt.xlabel('Classification Algorithm')"
   ]
  },
  {
   "cell_type": "code",
   "execution_count": 12,
   "metadata": {
    "collapsed": false
   },
   "outputs": [
    {
     "name": "stdout",
     "output_type": "stream",
     "text": [
      "Check\n"
     ]
    }
   ],
   "source": [
    "print('Check')"
   ]
  },
  {
   "cell_type": "code",
   "execution_count": 13,
   "metadata": {
    "collapsed": false
   },
   "outputs": [
    {
     "name": "stdout",
     "output_type": "stream",
     "text": [
      "[0.980381791483113, 0.98042094958394499, 0.98738130200685248, 0.99033773861967689, 0.99128732256485563, 0.98695056289769956]\n",
      "[0.0024392228186519752, 0.0028507527711328523, 0.0023885037231135076, 0.001643386931263744, 0.0016439408344343358, 0.0031866521060988002]\n"
     ]
    }
   ],
   "source": [
    "print(scores)\n",
    "print(scores_err)"
   ]
  },
  {
   "cell_type": "code",
   "execution_count": 14,
   "metadata": {
    "collapsed": true
   },
   "outputs": [],
   "source": [
    "# Above analysis with all 180 variants known to localize to body and 820 random variants that localize to cilia."
   ]
  },
  {
   "cell_type": "code",
   "execution_count": 15,
   "metadata": {
    "collapsed": true
   },
   "outputs": [],
   "source": [
    "exome = pd.read_excel(\"HC3_1000_loc_js_exomes_2_MG_170307.xlsx\")\n",
    "exomeFiltered = exome.loc[:, ['GERP','CADD_score', 'Dist2Splice','AB', 'P1_AltFreq', 'P2_AltFreq' ,'localization', 'js_cause']]\n",
    "exomeLoc = exomeFiltered.loc[:,['GERP','CADD_score', 'Dist2Splice','AB', 'P1_AltFreq', 'P2_AltFreq' , 'localization']]\n",
    "exomeJS = exomeFiltered.loc[:,['GERP','CADD_score', 'Dist2Splice','AB', 'P1_AltFreq', 'P2_AltFreq' , 'js_cause']]\n",
    "exomeTest = exomeFiltered.loc[:,['GERP','CADD_score', 'Dist2Splice','AB', 'P1_AltFreq', 'P2_AltFreq' ]]\n",
    "\n",
    "genes = exomeTest.values#Change to .values when using answer key method\n",
    "cancer_types = exomeLoc['localization'].values #Change to .values when using answer key method"
   ]
  },
  {
   "cell_type": "code",
   "execution_count": 16,
   "metadata": {
    "collapsed": false
   },
   "outputs": [
    {
     "name": "stdout",
     "output_type": "stream",
     "text": [
      "0.8186\n"
     ]
    }
   ],
   "source": [
    "score = cross_val_class_accuracy(LinearDiscriminantAnalysis(), genes, \n",
    "                                cancer_types, 6, 0.2, 100)\n",
    "print(score.mean())"
   ]
  },
  {
   "cell_type": "code",
   "execution_count": 17,
   "metadata": {
    "collapsed": true
   },
   "outputs": [],
   "source": [
    "\n",
    "lda_r6_scores = cross_val_class_accuracy(LinearDiscriminantAnalysis(), \n",
    "                                          genes, cancer_types, 6,\n",
    "                                          testfrac, reps)\n",
    "lda_r2_scores = cross_val_class_accuracy(LinearDiscriminantAnalysis(), \n",
    "                                          genes, cancer_types, 2,\n",
    "                                          testfrac, reps)\n",
    "knn6_scores = cross_val_class_accuracy(KNeighborsClassifier(n_neighbors=2),\n",
    "                                       genes, cancer_types, 6,\n",
    "                                        testfrac, reps)\n",
    "knn2_scores = cross_val_class_accuracy(KNeighborsClassifier(),\n",
    "                                       genes, cancer_types, 2,\n",
    "                                        testfrac, reps)\n",
    "svm6_scores = cross_val_class_accuracy(svm.SVC(),\n",
    "                                      genes, cancer_types, 6, \n",
    "                                     testfrac, reps)\n",
    "tree6_scores = cross_val_class_accuracy(DecisionTreeClassifier(),\n",
    "                                       genes, cancer_types, 6,\n",
    "                                      testfrac, reps)"
   ]
  },
  {
   "cell_type": "code",
   "execution_count": 18,
   "metadata": {
    "collapsed": false
   },
   "outputs": [
    {
     "data": {
      "text/plain": [
       "<matplotlib.text.Text at 0x1c9f9356a20>"
      ]
     },
     "execution_count": 18,
     "metadata": {},
     "output_type": "execute_result"
    },
    {
     "data": {
      "image/png": "[encoded data removed]",
      "text/plain": [
       "<matplotlib.figure.Figure at 0x1c9f9305b70>"
      ]
     },
     "metadata": {},
     "output_type": "display_data"
    }
   ],
   "source": [
    "classifiers = ('lda_r6', 'lda_r2', 'knn6', 'knn2', 'svm6', 'tree6')\n",
    "scores = [lda_r6_scores.mean(), lda_r2_scores.mean(), \n",
    "          knn6_scores.mean(), knn2_scores.mean(),\n",
    "         svm6_scores.mean(), tree6_scores.mean()]\n",
    "scores_err = [lda_r6_scores.std(), lda_r2_scores.std(), \n",
    "          knn6_scores.std(), knn2_scores.std(),\n",
    "         svm6_scores.std(), tree6_scores.std()]\n",
    "\n",
    "\n",
    "plt.bar(range(len(classifiers)), scores, \n",
    "        yerr=scores_err,\n",
    "        align='center', alpha=0.4,)\n",
    "plt.xticks(range(len(classifiers)), classifiers)\n",
    "plt.ylabel('Cross-validated accuracy')\n",
    "plt.xlabel('Classification Algorithm')"
   ]
  },
  {
   "cell_type": "code",
   "execution_count": 19,
   "metadata": {
    "collapsed": false
   },
   "outputs": [
    {
     "name": "stdout",
     "output_type": "stream",
     "text": [
      "[0.81600000000000006, 0.81550000000000011, 0.85789999999999988, 0.90150000000000008, 0.93700000000000017, 0.875]\n",
      "[0.023790754506740616, 0.025322914524201177, 0.021403037167654501, 0.021360009363293842, 0.01445683229480093, 0.027910571473905747]\n"
     ]
    }
   ],
   "source": [
    "print(scores)\n",
    "print(scores_err)"
   ]
  },
  {
   "cell_type": "code",
   "execution_count": null,
   "metadata": {
    "collapsed": true
   },
   "outputs": [],
   "source": []
  }
 ],
 "metadata": {
  "anaconda-cloud": {},
  "kernelspec": {
   "display_name": "Python [default]",
   "language": "python",
   "name": "python3"
  },
  "language_info": {
   "codemirror_mode": {
    "name": "ipython",
    "version": 3
   },
   "file_extension": ".py",
   "mimetype": "text/x-python",
   "name": "python",
   "nbconvert_exporter": "python",
   "pygments_lexer": "ipython3",
   "version": "3.5.2"
  }
 },
 "nbformat": 4,
 "nbformat_minor": 1
}
