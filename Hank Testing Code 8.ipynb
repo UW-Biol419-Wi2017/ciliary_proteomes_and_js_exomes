{
 "cells": [
  {
   "cell_type": "markdown",
   "metadata": {},
   "source": [
    "# Code for Cause Assessment\n",
    "\n",
    "We used the answer key for Homework 5 and modified it to suit our data and models."
   ]
  },
  {
   "cell_type": "code",
   "execution_count": 11,
   "metadata": {
    "collapsed": true
   },
   "outputs": [],
   "source": [
    "# preliminaries \n",
    "import numpy as np\n",
    "import scipy.io as sio\n",
    "import matplotlib.pyplot as plt\n",
    "%matplotlib inline\n",
    "import numpy as np\n",
    "import matplotlib.pyplot as plt\n",
    "%matplotlib inline\n",
    "import seaborn as sns\n",
    "import pandas as pd\n",
    "from sklearn.discriminant_analysis import LinearDiscriminantAnalysis\n",
    "from sklearn.decomposition import PCA"
   ]
  },
  {
   "cell_type": "code",
   "execution_count": 12,
   "metadata": {
    "collapsed": false
   },
   "outputs": [],
   "source": [
    "# import data files\n",
    "\n",
    "exome = pd.read_excel(\"HC3_js_exomes_2_MG_170307.xlsx\")\n",
    "exomeFiltered = exome.loc[:, ['GERP','CADD_score', 'Dist2Splice','AB', 'P1_AltFreq', 'P2_AltFreq' ,'localization', 'js_cause']]\n",
    "exomeLoc = exomeFiltered.loc[:,['GERP','CADD_score', 'Dist2Splice','AB', 'P1_AltFreq', 'P2_AltFreq' , 'localization']]\n",
    "exomeJS = exomeFiltered.loc[:,['GERP','CADD_score', 'Dist2Splice','AB', 'P1_AltFreq', 'P2_AltFreq' , 'js_cause']]\n",
    "exomeTest = exomeFiltered.loc[:,['GERP','CADD_score', 'Dist2Splice','AB', 'P1_AltFreq', 'P2_AltFreq' ]]\n",
    "\n",
    "variants = exomeTest.values #Change to .values when using answer key method\n",
    "cause = exomeJS['js_cause'].values #Change to .values when using answer key method"
   ]
  },
  {
   "cell_type": "code",
   "execution_count": 13,
   "metadata": {
    "collapsed": false
   },
   "outputs": [],
   "source": [
    "from sklearn.decomposition import PCA\n",
    "\n",
    "variants_pca = PCA()\n",
    "variants_pc = variants_pca.fit_transform(variants)"
   ]
  },
  {
   "cell_type": "code",
   "execution_count": 14,
   "metadata": {
    "collapsed": false
   },
   "outputs": [],
   "source": [
    "def test_train_id(N, test_frac):\n",
    "    ntrain = np.floor(N * (1 - test_frac)).astype(int)\n",
    "    randperm = np.random.permutation(N)\n",
    "    train = randperm[:ntrain]\n",
    "    test = randperm[(ntrain-N):]\n",
    "    return train, test"
   ]
  },
  {
   "cell_type": "code",
   "execution_count": 15,
   "metadata": {
    "collapsed": false
   },
   "outputs": [],
   "source": [
    "from sklearn.decomposition import PCA\n",
    "\n",
    "def cross_val_class_accuracy(model, X, y, r, test_frac, reps):\n",
    "    variants_pca = PCA()\n",
    "    \n",
    "    score = np.array([])\n",
    "    for i in range(reps):\n",
    "        train, test = test_train_id(y.size, test_frac)\n",
    "        y_train = y[train]\n",
    "        y_test = y[test]\n",
    "        \n",
    "        X_train = variants_pca.fit_transform(X[train, :])[:, :r]\n",
    "        X_test = variants_pca.transform(X[test, :])[:, :r]\n",
    "        \n",
    "        model.fit(X_train, y_train)\n",
    "        \n",
    "        pred = model.predict(X_test)\n",
    "        this_score = sum(pred == y_test) / len(y_test)\n",
    "        \n",
    "        score = np.append(score, this_score)\n",
    "    return score"
   ]
  },
  {
   "cell_type": "code",
   "execution_count": 16,
   "metadata": {
    "collapsed": false
   },
   "outputs": [
    {
     "name": "stdout",
     "output_type": "stream",
     "text": [
      "0.998017621145\n"
     ]
    }
   ],
   "source": [
    "from sklearn.discriminant_analysis import LinearDiscriminantAnalysis\n",
    "\n",
    "\n",
    "score = cross_val_class_accuracy(LinearDiscriminantAnalysis(), variants, \n",
    "                                cause, 6, 0.2, 100)\n",
    "print(score.mean())"
   ]
  },
  {
   "cell_type": "code",
   "execution_count": 17,
   "metadata": {
    "collapsed": true
   },
   "outputs": [],
   "source": [
    "#Answer Key Method"
   ]
  },
  {
   "cell_type": "code",
   "execution_count": 20,
   "metadata": {
    "collapsed": false
   },
   "outputs": [],
   "source": [
    "from sklearn.discriminant_analysis import LinearDiscriminantAnalysis\n",
    "from sklearn.neighbors import KNeighborsClassifier\n",
    "from sklearn import svm\n",
    "from sklearn.tree import DecisionTreeClassifier\n",
    "from sklearn.linear_model import LogisticRegression\n",
    "\n",
    "testfrac = 0.2\n",
    "reps = 50\n",
    "\n",
    "lda_r6_scores = cross_val_class_accuracy(LinearDiscriminantAnalysis(), \n",
    "                                          variants, cause, 6,\n",
    "                                          testfrac, reps)\n",
    "lda_r2_scores = cross_val_class_accuracy(LinearDiscriminantAnalysis(), \n",
    "                                          variants, cause, 2,\n",
    "                                          testfrac, reps)\n",
    "knn6_scores = cross_val_class_accuracy(KNeighborsClassifier(n_neighbors=2),\n",
    "                                       variants, cause, 6,\n",
    "                                        testfrac, reps)\n",
    "knn2_scores = cross_val_class_accuracy(KNeighborsClassifier(),\n",
    "                                       variants, cause, 2,\n",
    "                                        testfrac, reps)\n",
    "svm6_scores = cross_val_class_accuracy(svm.SVC(),\n",
    "                                      variants, cause, 6, \n",
    "                                     testfrac, reps)\n",
    "tree6_scores = cross_val_class_accuracy(DecisionTreeClassifier(),\n",
    "                                       variants, cause, 6,\n",
    "                                      testfrac, reps)\n",
    "logistic6_scores = cross_val_class_accuracy(LogisticRegression(),\n",
    "                                            variants, cause, 6,\n",
    "                                            testfrac, reps)"
   ]
  },
  {
   "cell_type": "code",
   "execution_count": 10,
   "metadata": {
    "collapsed": false
   },
   "outputs": [
    {
     "name": "stdout",
     "output_type": "stream",
     "text": [
      "Check\n"
     ]
    }
   ],
   "source": [
    "print('Check')"
   ]
  },
  {
   "cell_type": "code",
   "execution_count": 22,
   "metadata": {
    "collapsed": false
   },
   "outputs": [
    {
     "data": {
      "text/plain": [
       "<matplotlib.text.Text at 0x279e6bfa438>"
      ]
     },
     "execution_count": 22,
     "metadata": {},
     "output_type": "execute_result"
    },
    {
     "data": {
      "image/png": "[encoded data removed]",
      "text/plain": [
       "<matplotlib.figure.Figure at 0x279e4aaecc0>"
      ]
     },
     "metadata": {},
     "output_type": "display_data"
    }
   ],
   "source": [
    "classifiers = ('lda_r6', 'lda_r2', 'knn6', 'knn2', 'svm6', 'tree6', 'logistic6')\n",
    "scores = [lda_r6_scores.mean(), lda_r2_scores.mean(), \n",
    "          knn6_scores.mean(), knn2_scores.mean(),\n",
    "         svm6_scores.mean(), tree6_scores.mean(),\n",
    "         logistic6_scores.mean()]\n",
    "scores_err = [lda_r6_scores.std(), lda_r2_scores.std(), \n",
    "          knn6_scores.std(), knn2_scores.std(),\n",
    "         svm6_scores.std(), tree6_scores.std(),\n",
    "             logistic6_scores.std()]\n",
    "\n",
    "\n",
    "plt.bar(range(len(classifiers)), scores, \n",
    "        yerr=scores_err,\n",
    "        align='center', alpha=0.4,)\n",
    "plt.xticks(range(len(classifiers)), classifiers)\n",
    "plt.ylabel('Cross-validated accuracy')\n",
    "plt.xlabel('Classification Algorithm')"
   ]
  },
  {
   "cell_type": "code",
   "execution_count": 23,
   "metadata": {
    "collapsed": false
   },
   "outputs": [
    {
     "name": "stdout",
     "output_type": "stream",
     "text": [
      "Check\n"
     ]
    }
   ],
   "source": [
    "print('Check')"
   ]
  },
  {
   "cell_type": "code",
   "execution_count": 24,
   "metadata": {
    "collapsed": false
   },
   "outputs": [
    {
     "name": "stdout",
     "output_type": "stream",
     "text": [
      "[0.99791483113069024, 0.99833578071463536, 0.99770925110132158, 0.99789525208027396, 0.99807146353401865, 0.99642682329907006, 0.99794419970631421]\n",
      "[0.00089620951269003043, 0.00077082798570845081, 0.000767338930680966, 0.00078469013910334603, 0.00085572994327949385, 0.0011879257072453741, 0.0009691135522869903]\n"
     ]
    }
   ],
   "source": [
    "print(scores)\n",
    "print(scores_err)"
   ]
  },
  {
   "cell_type": "code",
   "execution_count": 14,
   "metadata": {
    "collapsed": true
   },
   "outputs": [],
   "source": [
    "#Above analysis with all 20 known causative variants and 980 random variants with unknown cause status"
   ]
  },
  {
   "cell_type": "code",
   "execution_count": 15,
   "metadata": {
    "collapsed": true
   },
   "outputs": [],
   "source": [
    "exome = pd.read_excel(\"HC3_1000_js_exomes_2_MG_170307.xlsx\")\n",
    "exomeFiltered = exome.loc[:, ['GERP','CADD_score', 'Dist2Splice','AB', 'P1_AltFreq', 'P2_AltFreq' ,'localization', 'js_cause']]\n",
    "exomeLoc = exomeFiltered.loc[:,['GERP','CADD_score', 'Dist2Splice','AB', 'P1_AltFreq', 'P2_AltFreq' , 'localization']]\n",
    "exomeJS = exomeFiltered.loc[:,['GERP','CADD_score', 'Dist2Splice','AB', 'P1_AltFreq', 'P2_AltFreq' , 'js_cause']]\n",
    "exomeTest = exomeFiltered.loc[:,['GERP','CADD_score', 'Dist2Splice','AB', 'P1_AltFreq', 'P2_AltFreq' ]]\n",
    "\n",
    "variants = exomeTest.values#Change to .values when using answer key method\n",
    "cause = exomeJS['js_cause'].values #Change to .values when using answer key method"
   ]
  },
  {
   "cell_type": "code",
   "execution_count": 16,
   "metadata": {
    "collapsed": false
   },
   "outputs": [
    {
     "name": "stdout",
     "output_type": "stream",
     "text": [
      "0.9791\n"
     ]
    }
   ],
   "source": [
    "from sklearn.discriminant_analysis import LinearDiscriminantAnalysis\n",
    "\n",
    "\n",
    "score = cross_val_class_accuracy(LinearDiscriminantAnalysis(), variants, \n",
    "                                cause, 6, 0.2, 100)\n",
    "print(score.mean())"
   ]
  },
  {
   "cell_type": "code",
   "execution_count": 26,
   "metadata": {
    "collapsed": true
   },
   "outputs": [],
   "source": [
    "\n",
    "lda_r6_scores = cross_val_class_accuracy(LinearDiscriminantAnalysis(), \n",
    "                                          variants, cause, 6,\n",
    "                                          testfrac, reps)\n",
    "lda_r2_scores = cross_val_class_accuracy(LinearDiscriminantAnalysis(), \n",
    "                                          variants, cause, 2,\n",
    "                                          testfrac, reps)\n",
    "knn6_scores = cross_val_class_accuracy(KNeighborsClassifier(n_neighbors=2),\n",
    "                                       variants, cause, 6,\n",
    "                                        testfrac, reps)\n",
    "knn2_scores = cross_val_class_accuracy(KNeighborsClassifier(),\n",
    "                                       variants, cause, 2,\n",
    "                                        testfrac, reps)\n",
    "svm6_scores = cross_val_class_accuracy(svm.SVC(),\n",
    "                                      variants, cause, 6, \n",
    "                                     testfrac, reps)\n",
    "tree6_scores = cross_val_class_accuracy(DecisionTreeClassifier(),\n",
    "                                       variants, cause, 6,\n",
    "                                      testfrac, reps)\n",
    "logistic6_scores = cross_val_class_accuracy(LogisticRegression(),\n",
    "                                            variants, cause, 6,\n",
    "                                            testfrac, reps)"
   ]
  },
  {
   "cell_type": "code",
   "execution_count": 25,
   "metadata": {
    "collapsed": false
   },
   "outputs": [
    {
     "data": {
      "text/plain": [
       "<matplotlib.text.Text at 0x279e6f7c6a0>"
      ]
     },
     "execution_count": 25,
     "metadata": {},
     "output_type": "execute_result"
    },
    {
     "data": {
      "image/png": "[encoded data removed]",
      "text/plain": [
       "<matplotlib.figure.Figure at 0x279e5019748>"
      ]
     },
     "metadata": {},
     "output_type": "display_data"
    }
   ],
   "source": [
    "classifiers = ('lda_r6', 'lda_r2', 'knn6', 'knn2', 'svm6', 'tree6', 'log6')\n",
    "scores = [lda_r6_scores.mean(), lda_r2_scores.mean(), \n",
    "          knn6_scores.mean(), knn2_scores.mean(),\n",
    "         svm6_scores.mean(), tree6_scores.mean(),\n",
    "         logistic6_scores.mean()]\n",
    "scores_err = [lda_r6_scores.std(), lda_r2_scores.std(), \n",
    "          knn6_scores.std(), knn2_scores.std(),\n",
    "         svm6_scores.std(), tree6_scores.std(),\n",
    "             logistic6_scores.std()]\n",
    "\n",
    "\n",
    "plt.bar(range(len(classifiers)), scores, \n",
    "        yerr=scores_err,\n",
    "        align='center', alpha=0.4,)\n",
    "plt.xticks(range(len(classifiers)), classifiers)\n",
    "plt.ylabel('Cross-validated accuracy')\n",
    "plt.xlabel('Classification Algorithm')"
   ]
  },
  {
   "cell_type": "code",
   "execution_count": 27,
   "metadata": {
    "collapsed": false
   },
   "outputs": [
    {
     "name": "stdout",
     "output_type": "stream",
     "text": [
      "[0.99791483113069024, 0.99833578071463536, 0.99770925110132158, 0.99789525208027396, 0.99807146353401865, 0.99642682329907006, 0.99794419970631421]\n",
      "[0.00089620951269003043, 0.00077082798570845081, 0.000767338930680966, 0.00078469013910334603, 0.00085572994327949385, 0.0011879257072453741, 0.0009691135522869903]\n"
     ]
    }
   ],
   "source": [
    "print(scores)\n",
    "print(scores_err)"
   ]
  },
  {
   "cell_type": "code",
   "execution_count": 28,
   "metadata": {
    "collapsed": true
   },
   "outputs": [],
   "source": [
    "# we don't have enought known variants to train our model. The unknown variants are skewing our model"
   ]
  },
  {
   "cell_type": "code",
   "execution_count": 29,
   "metadata": {
    "collapsed": true
   },
   "outputs": [],
   "source": [
    "#Above analysis with all 20 known causative variants and 80 random variants with unknown cause status"
   ]
  },
  {
   "cell_type": "code",
   "execution_count": 30,
   "metadata": {
    "collapsed": true
   },
   "outputs": [],
   "source": [
    "exome = pd.read_excel(\"HC3_100_js_exomes_2_MG_170307.xlsx\")\n",
    "exomeFiltered = exome.loc[:, ['GERP','CADD_score', 'Dist2Splice','AB', 'P1_AltFreq', 'P2_AltFreq' ,'localization', 'js_cause']]\n",
    "exomeLoc = exomeFiltered.loc[:,['GERP','CADD_score', 'Dist2Splice','AB', 'P1_AltFreq', 'P2_AltFreq' , 'localization']]\n",
    "exomeJS = exomeFiltered.loc[:,['GERP','CADD_score', 'Dist2Splice','AB', 'P1_AltFreq', 'P2_AltFreq' , 'js_cause']]\n",
    "exomeTest = exomeFiltered.loc[:,['GERP','CADD_score', 'Dist2Splice','AB', 'P1_AltFreq', 'P2_AltFreq' ]]\n",
    "\n",
    "variants = exomeTest.values#Change to .values when using answer key method\n",
    "cause = exomeJS['js_cause'].values #Change to .values when using answer key method"
   ]
  },
  {
   "cell_type": "code",
   "execution_count": 31,
   "metadata": {
    "collapsed": false
   },
   "outputs": [
    {
     "name": "stdout",
     "output_type": "stream",
     "text": [
      "0.829\n"
     ]
    }
   ],
   "source": [
    "score = cross_val_class_accuracy(LinearDiscriminantAnalysis(), variants, \n",
    "                                cause, 6, 0.2, 100)\n",
    "print(score.mean())"
   ]
  },
  {
   "cell_type": "code",
   "execution_count": 32,
   "metadata": {
    "collapsed": true
   },
   "outputs": [],
   "source": [
    "\n",
    "lda_r6_scores = cross_val_class_accuracy(LinearDiscriminantAnalysis(), \n",
    "                                          variants, cause, 6,\n",
    "                                          testfrac, reps)\n",
    "lda_r2_scores = cross_val_class_accuracy(LinearDiscriminantAnalysis(), \n",
    "                                          variants, cause, 2,\n",
    "                                          testfrac, reps)\n",
    "knn6_scores = cross_val_class_accuracy(KNeighborsClassifier(n_neighbors=2),\n",
    "                                       variants, cause, 6,\n",
    "                                        testfrac, reps)\n",
    "knn2_scores = cross_val_class_accuracy(KNeighborsClassifier(),\n",
    "                                       variants, cause, 2,\n",
    "                                        testfrac, reps)\n",
    "svm6_scores = cross_val_class_accuracy(svm.SVC(),\n",
    "                                      variants, cause, 6, \n",
    "                                     testfrac, reps)\n",
    "tree6_scores = cross_val_class_accuracy(DecisionTreeClassifier(),\n",
    "                                       variants, cause, 6,\n",
    "                                      testfrac, reps)\n",
    "logistic6_scores = cross_val_class_accuracy(LogisticRegression(),\n",
    "                                            variants, cause, 6,\n",
    "                                            testfrac, reps)"
   ]
  },
  {
   "cell_type": "code",
   "execution_count": 36,
   "metadata": {
    "collapsed": false
   },
   "outputs": [
    {
     "data": {
      "text/plain": [
       "<matplotlib.text.Text at 0x279e4d80e48>"
      ]
     },
     "execution_count": 36,
     "metadata": {},
     "output_type": "execute_result"
    },
    {
     "data": {
      "image/png": "[encoded data removed]",
      "text/plain": [
       "<matplotlib.figure.Figure at 0x279e4d970f0>"
      ]
     },
     "metadata": {},
     "output_type": "display_data"
    }
   ],
   "source": [
    "classifiers = ('lda_r6', 'lda_r2', 'knn6', 'knn2', 'svm6', 'tree6', 'log6')\n",
    "scores = [lda_r6_scores.mean(), lda_r2_scores.mean(), \n",
    "          knn6_scores.mean(), knn2_scores.mean(),\n",
    "         svm6_scores.mean(), tree6_scores.mean(),\n",
    "         logistic6_scores.mean()]\n",
    "scores_err = [lda_r6_scores.std(), lda_r2_scores.std(), \n",
    "          knn6_scores.std(), knn2_scores.std(),\n",
    "         svm6_scores.std(), tree6_scores.std(),\n",
    "             logistic6_scores.std()]\n",
    "\n",
    "\n",
    "plt.bar(range(len(classifiers)), scores, \n",
    "        yerr=scores_err,\n",
    "        align='center', alpha=0.4,)\n",
    "plt.title('Accuracies of different models for case data')\n",
    "plt.xticks(range(len(classifiers)), classifiers)\n",
    "plt.ylabel('Cross-validated accuracy')\n",
    "plt.xlabel('Classification Algorithm')"
   ]
  },
  {
   "cell_type": "code",
   "execution_count": 37,
   "metadata": {
    "collapsed": false
   },
   "outputs": [
    {
     "name": "stdout",
     "output_type": "stream",
     "text": [
      "[0.81299999999999994, 0.78300000000000014, 0.83599999999999997, 0.82700000000000007, 0.91000000000000014, 0.79400000000000004, 0.79099999999999993]\n",
      "[0.085328775919967348, 0.089783071901110623, 0.076183987818963628, 0.088999999999999982, 0.067823299831252681, 0.074592224795886078, 0.077903786814249296]\n"
     ]
    }
   ],
   "source": [
    "print(scores)\n",
    "print(scores_err)"
   ]
  },
  {
   "cell_type": "code",
   "execution_count": null,
   "metadata": {
    "collapsed": true
   },
   "outputs": [],
   "source": []
  }
 ],
 "metadata": {
  "anaconda-cloud": {},
  "kernelspec": {
   "display_name": "Python [default]",
   "language": "python",
   "name": "python3"
  },
  "language_info": {
   "codemirror_mode": {
    "name": "ipython",
    "version": 3
   },
   "file_extension": ".py",
   "mimetype": "text/x-python",
   "name": "python",
   "nbconvert_exporter": "python",
   "pygments_lexer": "ipython3",
   "version": "3.5.2"
  }
 },
 "nbformat": 4,
 "nbformat_minor": 1
}
